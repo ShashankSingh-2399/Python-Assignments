{
  "nbformat": 4,
  "nbformat_minor": 0,
  "metadata": {
    "colab": {
      "provenance": [],
      "authorship_tag": "ABX9TyNuDkIJYAR2tnaYEk3s2JWD",
      "include_colab_link": true
    },
    "kernelspec": {
      "name": "python3",
      "display_name": "Python 3"
    },
    "language_info": {
      "name": "python"
    }
  },
  "cells": [
    {
      "cell_type": "markdown",
      "metadata": {
        "id": "view-in-github",
        "colab_type": "text"
      },
      "source": [
        "<a href=\"https://colab.research.google.com/github/ShashankSingh-2399/Python-Assignments/blob/main/4)_OOPS_Assignment.ipynb\" target=\"_parent\"><img src=\"https://colab.research.google.com/assets/colab-badge.svg\" alt=\"Open In Colab\"/></a>"
      ]
    },
    {
      "cell_type": "markdown",
      "source": [
        "#Q-1)  What are the five key concepts of Object-Oriented Programming (OOP)?"
      ],
      "metadata": {
        "id": "ErzlVv5BYAi-"
      }
    },
    {
      "cell_type": "markdown",
      "source": [
        "**Ans-1)** 5 key concepts of Object-Oriented Programming are as follows:\n",
        "\n",
        "1.   **Class and Object:-** A class acts as a blueprint for creating objects, defining the attributes (data) and methods (functions) that objects of that class will have. An object is an instance of a class, meaning a specific realization of the class with its own data values.\n",
        "\n",
        "2.   **Encapsulation:-** It actualy works as access modifier, means it is used to decide which part of codes are to be restricted from the access of outsider and which code are to be accessed but only by the known the known and and whch codes are to be public i.e accessible for everyone to reach and edit as per their own need(s). There are 3 types of encapsulation or access modifiers-\n",
        "*  Public access modifier\n",
        "*  Protected modifier\n",
        "*  Private modifier\n",
        "\n",
        "3. **Polymorphism:-** Polymorphism allows a single interface to represent different data types or objects. For example, the same method or operator can perform different operations in different scenarios.\n",
        "\n",
        "4. **Data Abstraction:-** Data abstraction hides complex implementation details and provides a simplified interface. It only provides essential information about the data to the outside world.\n",
        "\n",
        "5. **Inheritence:-** Inheritance allows a class to inherit attributes and methods from another class. This promotes code reuse. There are multiple types of inheritance mentioned below:-\n",
        "*   Single level inheritance\n",
        "*   Multilevel Inheritance\n",
        "*   Multiple Inheritance\n",
        "*   Hierarchial Inheritance\n",
        "*   Hybrid Inheritance\n",
        "\n",
        "\n",
        "\n",
        "\n"
      ],
      "metadata": {
        "id": "bkJZb180YKay"
      }
    },
    {
      "cell_type": "markdown",
      "source": [
        "**Q-2)  Write a Python class for a `Car` with attributes for `make`, `model`,and `year`. Include a method to display the car's information.**"
      ],
      "metadata": {
        "id": "adki9S5Hvm3r"
      }
    },
    {
      "cell_type": "code",
      "source": [
        "#Ans-2)\n",
        "class Car:\n",
        "    def __init__(self, make, model, year):\n",
        "        self.make= make\n",
        "        self.model=model\n",
        "        self.year=year\n",
        "\n",
        "    def display_info(self):\n",
        "        print(f\"Make = {self.make}\")\n",
        "        print(f\"Model = {self.model}\")\n",
        "        print(f\"Year = {self.year}\")\n",
        "\n",
        "Car_details= Car(\"Tata\",\"Nano\",\"2008\") #Car_details is an instance created for class Car\n",
        "Car_details.display_info()"
      ],
      "metadata": {
        "colab": {
          "base_uri": "https://localhost:8080/"
        },
        "id": "GhiLI5ubwU72",
        "outputId": "1aa8e7e2-fcf7-4adb-a415-f6ae21674a08"
      },
      "execution_count": null,
      "outputs": [
        {
          "output_type": "stream",
          "name": "stdout",
          "text": [
            "Make = Tata\n",
            "Model = Nano\n",
            "Year = 2008\n"
          ]
        }
      ]
    },
    {
      "cell_type": "markdown",
      "source": [
        "**Q-3) Explain the difference between instance methods and class methods. Provide an example of each.**"
      ],
      "metadata": {
        "id": "tsXzmlo_z_Bg"
      }
    },
    {
      "cell_type": "markdown",
      "source": [
        "**Ans-3** Instance method is a method which operates on a specific instance(object) of the class, accessing its attributes directly through \"self\", whereas a class method is a method which operates on the class itself and accessed through \"cls\" parameter, and can't directly access instance attributes & @classmethod decorator is used in it."
      ],
      "metadata": {
        "id": "GLioRs7w3sZ5"
      }
    },
    {
      "cell_type": "code",
      "source": [
        "#Ans-3)(i)  Example of Instance Method:-\n",
        "class Dog:\n",
        "    def __init__(self, name, age):\n",
        "      self.name= name\n",
        "      self.age= age\n",
        "\n",
        "    def bark(self): #Instance method\n",
        "      print(f\"{self.name} is barking. It is {self.age} years old now.\")\n",
        "\n",
        "my_dog= Dog(\"Sandy\",\"8\")  #Created an instance of the Dog class\n",
        "my_dog.bark()\n"
      ],
      "metadata": {
        "colab": {
          "base_uri": "https://localhost:8080/"
        },
        "id": "7qx6b1wA5FbN",
        "outputId": "7a3cf54f-c9d8-41e1-84ce-7e5837806ea4"
      },
      "execution_count": null,
      "outputs": [
        {
          "output_type": "stream",
          "name": "stdout",
          "text": [
            "Sandy is barking. It is 8 years old now.\n"
          ]
        }
      ]
    },
    {
      "cell_type": "code",
      "source": [
        "#(ii) Example of Class Method:-\n",
        "class Circle:\n",
        "  pi= 3.141\n",
        "\n",
        "  @classmethod\n",
        "  def calculate_areas(cls, radius): #Class method\n",
        "      return cls.pi*radius*radius\n",
        "\n",
        "area= Circle.calculate_areas(7)\n",
        "print(area)"
      ],
      "metadata": {
        "colab": {
          "base_uri": "https://localhost:8080/"
        },
        "id": "s-hL29-C73lS",
        "outputId": "32e1f4f3-8ad8-458f-ed5a-81920f92ce84"
      },
      "execution_count": null,
      "outputs": [
        {
          "output_type": "stream",
          "name": "stdout",
          "text": [
            "153.90900000000002\n"
          ]
        }
      ]
    },
    {
      "cell_type": "markdown",
      "source": [
        "**Q-4) How does Python implement method overloading? Give an example.**"
      ],
      "metadata": {
        "id": "P1tov6Y59tWC"
      }
    },
    {
      "cell_type": "markdown",
      "source": [
        "**Ans-4)** Unlike Java & C++ , Python does not support method overloading in it but in its substitute it opts another way to perform the way same way of funcion as method overloading do. In Python, when more than one methods are defined, the last method will overload the previous in the same class."
      ],
      "metadata": {
        "id": "lb_6_WE1I4MG"
      }
    },
    {
      "cell_type": "code",
      "source": [
        "class Shape:\n",
        "  def Calculate_area(self,*args):\n",
        "    if len(args)==1:\n",
        "      radius = args[0] #for circle, only radius is needed\n",
        "      return 3.141*radius*radius\n",
        "    elif len(args)==2:\n",
        "      length, breadth = args #for rectangle, both length and breadth are needed\n",
        "      return length*breadth\n",
        "    else:\n",
        "      return \"Invalid input\"\n",
        "\n",
        "shape= Shape()\n",
        "print(shape.Calculate_area(5))\n",
        "print(shape.Calculate_area(4,5))"
      ],
      "metadata": {
        "colab": {
          "base_uri": "https://localhost:8080/"
        },
        "id": "vqdjJ2dtLdjn",
        "outputId": "5909504a-580f-4b65-9b0e-5ed3f9941e75"
      },
      "execution_count": null,
      "outputs": [
        {
          "output_type": "stream",
          "name": "stdout",
          "text": [
            "78.525\n",
            "20\n"
          ]
        }
      ]
    },
    {
      "cell_type": "markdown",
      "source": [
        "**Q-5) What are the three types of access modifiers in Python? How are they denoted?**"
      ],
      "metadata": {
        "id": "DsYlR7qZPdxd"
      }
    },
    {
      "cell_type": "markdown",
      "source": [
        "**Ans*5)** There are 3 types of main access modifiers in python:\n",
        "\n",
        "1.   **Public access modifiers-** It is free and available to all access the source of code and also allows to do ammendmend by any one as per their need and understandings.\n",
        "\n",
        "2.   **Private access modifiers-** The data & method are only accessible within its class. We use \"__\"(double underscore)in beginning to make it private. If double underscore is not used for accessing objects or instances of the class, it will through an error. It is very important for user to first to know the name of the class in which that private objects/instances' names lies.\n",
        "\n",
        "3.   **Protected access modifiers-** The data, methods and its subclass are protected by using \"_\" (single underscore) in the beginning of the name of objects.Sae like private access modifiers here also it is very important to know the name of the class under which objects' or instances are protected, failing to which will surely to result an error.\n",
        "\n",
        "\n"
      ],
      "metadata": {
        "id": "QYB35Ac3PqTO"
      }
    },
    {
      "cell_type": "code",
      "source": [
        "#(i) Example of Public Access Modifier-\n",
        "class Animal:\n",
        "  def sound(self):\n",
        "    print(\"Animal Sound\")\n",
        "\n",
        "class Cat:\n",
        "  def sound(self):\n",
        "    print(\"Cat meows\")\n",
        "\n",
        "anm= Animal()\n",
        "anm.sound() #sound function here is easily get accessed by Animal & Cat class.\n",
        "ct= Cat()\n",
        "ct.sound()\n"
      ],
      "metadata": {
        "colab": {
          "base_uri": "https://localhost:8080/"
        },
        "id": "gi7H1luRPE0F",
        "outputId": "ef74599f-483c-4b65-c47e-51a0878cd421"
      },
      "execution_count": null,
      "outputs": [
        {
          "output_type": "stream",
          "name": "stdout",
          "text": [
            "Animal Sound\n",
            "Cat meows\n"
          ]
        }
      ]
    },
    {
      "cell_type": "code",
      "source": [
        "#(ii) Example of Private Access Modifiers-\n",
        "\n",
        "class Student:\n",
        "  def __init__(self, name, degree):\n",
        "      self.name= name\n",
        "      self.__degree= degree\n",
        "  def show(self):\n",
        "    print(f\"Name = {self.name}\")\n",
        "    print(f\"Degree = {self.__degree}\")\n",
        "\n",
        "aj=Student(\"Shashank\",\"B.Com(Hons)\")\n",
        "print(aj.name) #name is public so it is get easily accessed\n",
        "aj.show() #here degree is also get accessed under show() function because it is defined in show() using \"__\" double underscore\n",
        "print(aj.degree) # this will throw an error because individually degree cannot be access untill and unless we use double underscore with its name and the class the name of it"
      ],
      "metadata": {
        "colab": {
          "base_uri": "https://localhost:8080/",
          "height": 277
        },
        "id": "r0x8ncvtqyRx",
        "outputId": "b7461d66-c727-4648-90d8-668468962af7"
      },
      "execution_count": null,
      "outputs": [
        {
          "output_type": "stream",
          "name": "stdout",
          "text": [
            "Shashank\n",
            "Name = Shashank\n",
            "Degree = B.Com(Hons)\n"
          ]
        },
        {
          "output_type": "error",
          "ename": "AttributeError",
          "evalue": "'Student' object has no attribute 'degree'",
          "traceback": [
            "\u001b[0;31m---------------------------------------------------------------------------\u001b[0m",
            "\u001b[0;31mAttributeError\u001b[0m                            Traceback (most recent call last)",
            "\u001b[0;32m<ipython-input-9-11111522243d>\u001b[0m in \u001b[0;36m<cell line: 0>\u001b[0;34m()\u001b[0m\n\u001b[1;32m     12\u001b[0m \u001b[0mprint\u001b[0m\u001b[0;34m(\u001b[0m\u001b[0maj\u001b[0m\u001b[0;34m.\u001b[0m\u001b[0mname\u001b[0m\u001b[0;34m)\u001b[0m \u001b[0;31m#name is public so it is get easily accessed\u001b[0m\u001b[0;34m\u001b[0m\u001b[0;34m\u001b[0m\u001b[0m\n\u001b[1;32m     13\u001b[0m \u001b[0maj\u001b[0m\u001b[0;34m.\u001b[0m\u001b[0mshow\u001b[0m\u001b[0;34m(\u001b[0m\u001b[0;34m)\u001b[0m \u001b[0;31m#here degree is also get accessed under show() function because it is defined in show() using \"__\" double underscore\u001b[0m\u001b[0;34m\u001b[0m\u001b[0;34m\u001b[0m\u001b[0m\n\u001b[0;32m---> 14\u001b[0;31m \u001b[0mprint\u001b[0m\u001b[0;34m(\u001b[0m\u001b[0maj\u001b[0m\u001b[0;34m.\u001b[0m\u001b[0mdegree\u001b[0m\u001b[0;34m)\u001b[0m \u001b[0;31m# this will throw an error because individually degree cannot be access untill and unless we use double underscore with its name and the class the name of it\u001b[0m\u001b[0;34m\u001b[0m\u001b[0;34m\u001b[0m\u001b[0m\n\u001b[0m",
            "\u001b[0;31mAttributeError\u001b[0m: 'Student' object has no attribute 'degree'"
          ]
        }
      ]
    },
    {
      "cell_type": "code",
      "source": [
        "# but now we will access degree by using the name of its belonging class and double underscore sign.\n",
        "print(aj._Student__degree)"
      ],
      "metadata": {
        "colab": {
          "base_uri": "https://localhost:8080/"
        },
        "id": "fWxdn2euyURn",
        "outputId": "563019a0-7141-4a17-8784-a63d355fc840"
      },
      "execution_count": null,
      "outputs": [
        {
          "output_type": "stream",
          "name": "stdout",
          "text": [
            "B.Com(Hons)\n"
          ]
        }
      ]
    },
    {
      "cell_type": "code",
      "source": [
        "#(iii) Protected access modifiers-\n",
        "class Student:\n",
        "  def __init__(self, name, degree):\n",
        "      self.name= name\n",
        "      self._degree= degree\n",
        "  def show(self):\n",
        "    print(f\"Name = {self.name}\")\n",
        "    print(f\"Degree = {self._degree}\")\n",
        "\n",
        "aj=Student(\"Shashank\",\"B.Com(Hons)\")\n",
        "print(aj.name) #name is public so it is get easily accessed\n",
        "aj.show() #here degree is also get accessed under show() function because it is defined in show() using \"_\" single underscore"
      ],
      "metadata": {
        "colab": {
          "base_uri": "https://localhost:8080/"
        },
        "id": "fgDYhCmFyzID",
        "outputId": "b8d2bc32-65b6-4a4f-9126-e89e69ef2d25"
      },
      "execution_count": null,
      "outputs": [
        {
          "output_type": "stream",
          "name": "stdout",
          "text": [
            "Shashank\n",
            "Name = Shashank\n",
            "Degree = B.Com(Hons)\n"
          ]
        }
      ]
    },
    {
      "cell_type": "markdown",
      "source": [
        "**Q-6)** Describe the five types of inheritance in Python. Provide a simple example of multiple inheritance."
      ],
      "metadata": {
        "id": "dddKnHQCz8sh"
      }
    },
    {
      "cell_type": "markdown",
      "source": [
        "**Ans-6)** 5 types of inheritence in Python are as follows:\n",
        "1.   **Single inheritance-** It refers to the process of child receiving its properties from single parent. It have only two classes-one is base class and the another one is derived class. Derived class can have its own properties also as well as its parent class's properties too but parent class will only have its own properties and not of its child class.\n",
        "2.   **Multilevel Inheritance-** It refers to the process of child receiving its properties in same vertically derived class. Like a child receiving its properties only from his/her father's side family members including his own properties his father and grandfather's properties but not from his/her other side family member's properties.\n",
        "3.   **Multiple Inheritance-** It refers to the process of child receiving their properties from more than one parent class. It is also termed as Diamond problem because here always arises a question that of which parent class will it fetch its properties from and on what basis in result to which its answer comes that the parent class which is inherited first in the dervied class that parent class properties will be get added to it.\n",
        "4.   **Hierarchial Inheritance-** It refers to process in which dervied class are more than one but parent class or base class is only one. Like vehicle is the parent class and every model cars and trucks or any other automobile all belongs to the base class vehicle.\n",
        "5.   **Hybrid Inheritance-** It is a combination of multiple inheritance and hierarchial inheritance.\n",
        "\n"
      ],
      "metadata": {
        "id": "3JotnXSI0KHr"
      }
    },
    {
      "cell_type": "code",
      "source": [
        "#(i) Sinlge Inheritance-\n",
        "class Father:\n",
        "  def father_property(self):\n",
        "    print(\"This is father's property\")\n",
        "\n",
        "class Son(Father):\n",
        "  def son_property(self):\n",
        "    print(\"This is son's property\")\n",
        "\n",
        "child_obj= Son()\n",
        "child_obj.father_property()\n",
        "child_obj.son_property()\n"
      ],
      "metadata": {
        "colab": {
          "base_uri": "https://localhost:8080/"
        },
        "id": "ocQ5RSyd5nXE",
        "outputId": "65eba1ff-2ef8-4b6c-9e3f-6ac209244248"
      },
      "execution_count": null,
      "outputs": [
        {
          "output_type": "stream",
          "name": "stdout",
          "text": [
            "This is father's property\n",
            "This is son's property\n"
          ]
        }
      ]
    },
    {
      "cell_type": "code",
      "source": [
        "##(ii) Multilevel Inheritance:\n",
        "class Grandfather:\n",
        "  def grandfather_property(self):\n",
        "    print(\"This is grandfather's property\")\n",
        "\n",
        "class Father(Grandfather):\n",
        "  def father_property(self):\n",
        "    print(\"This is father's property\")\n",
        "\n",
        "class Son(Father):\n",
        "  def son_property(self):\n",
        "    print(\"This is son's property\")\n",
        "\n",
        "\n",
        "grandfather_obj= Grandfather()\n",
        "father_obj=Father()\n",
        "child_obj=Son()\n",
        "child_obj.son_property() or child_obj.father_property() or child_obj.grandfather_property() # child can access his own propery his father's property & his grandfather's property"
      ],
      "metadata": {
        "colab": {
          "base_uri": "https://localhost:8080/"
        },
        "id": "ImDS_MyTptC3",
        "outputId": "0206a017-af34-4c4a-ad46-e7f9819d8bfd"
      },
      "execution_count": null,
      "outputs": [
        {
          "output_type": "stream",
          "name": "stdout",
          "text": [
            "This is son's property\n",
            "This is father's property\n",
            "This is grandfather's property\n"
          ]
        }
      ]
    },
    {
      "cell_type": "code",
      "source": [
        "father_obj.father_property() or father_obj.grandfather_property() or father_obj.son_property() #father can his own and grandfather's property but cannot access his child class properties"
      ],
      "metadata": {
        "colab": {
          "base_uri": "https://localhost:8080/",
          "height": 203
        },
        "id": "pDC5iznT8Cyq",
        "outputId": "bd9d43c4-5497-405e-fec8-c8ea52e1f4bf"
      },
      "execution_count": null,
      "outputs": [
        {
          "output_type": "stream",
          "name": "stdout",
          "text": [
            "This is father's property\n",
            "This is grandfather's property\n"
          ]
        },
        {
          "output_type": "error",
          "ename": "AttributeError",
          "evalue": "'Father' object has no attribute 'son_property'",
          "traceback": [
            "\u001b[0;31m---------------------------------------------------------------------------\u001b[0m",
            "\u001b[0;31mAttributeError\u001b[0m                            Traceback (most recent call last)",
            "\u001b[0;32m<ipython-input-19-624d7fcded98>\u001b[0m in \u001b[0;36m<cell line: 0>\u001b[0;34m()\u001b[0m\n\u001b[0;32m----> 1\u001b[0;31m \u001b[0mfather_obj\u001b[0m\u001b[0;34m.\u001b[0m\u001b[0mfather_property\u001b[0m\u001b[0;34m(\u001b[0m\u001b[0;34m)\u001b[0m \u001b[0;32mor\u001b[0m \u001b[0mfather_obj\u001b[0m\u001b[0;34m.\u001b[0m\u001b[0mgrandfather_property\u001b[0m\u001b[0;34m(\u001b[0m\u001b[0;34m)\u001b[0m \u001b[0;32mor\u001b[0m \u001b[0mfather_obj\u001b[0m\u001b[0;34m.\u001b[0m\u001b[0mson_property\u001b[0m\u001b[0;34m(\u001b[0m\u001b[0;34m)\u001b[0m \u001b[0;31m#father can his own and grandfather's property but cannot access his child class properties\u001b[0m\u001b[0;34m\u001b[0m\u001b[0;34m\u001b[0m\u001b[0m\n\u001b[0m",
            "\u001b[0;31mAttributeError\u001b[0m: 'Father' object has no attribute 'son_property'"
          ]
        }
      ]
    },
    {
      "cell_type": "code",
      "source": [
        "grandfather_obj.grandfather_property() or grandfather_obj.father_property() or grandfather_obj.son_property() #grandfather can access his own property but cannot access father's property and child class properties"
      ],
      "metadata": {
        "colab": {
          "base_uri": "https://localhost:8080/",
          "height": 203
        },
        "id": "U5j_dLWI9-Bb",
        "outputId": "ff60a009-de15-46ce-8306-c8216c12ff97"
      },
      "execution_count": null,
      "outputs": [
        {
          "output_type": "stream",
          "name": "stdout",
          "text": [
            "This is grandfather's property\n"
          ]
        },
        {
          "output_type": "error",
          "ename": "AttributeError",
          "evalue": "'Grandfather' object has no attribute 'father_property'",
          "traceback": [
            "\u001b[0;31m---------------------------------------------------------------------------\u001b[0m",
            "\u001b[0;31mAttributeError\u001b[0m                            Traceback (most recent call last)",
            "\u001b[0;32m<ipython-input-21-bce62670ee2d>\u001b[0m in \u001b[0;36m<cell line: 0>\u001b[0;34m()\u001b[0m\n\u001b[0;32m----> 1\u001b[0;31m \u001b[0mgrandfather_obj\u001b[0m\u001b[0;34m.\u001b[0m\u001b[0mgrandfather_property\u001b[0m\u001b[0;34m(\u001b[0m\u001b[0;34m)\u001b[0m \u001b[0;32mor\u001b[0m \u001b[0mgrandfather_obj\u001b[0m\u001b[0;34m.\u001b[0m\u001b[0mfather_property\u001b[0m\u001b[0;34m(\u001b[0m\u001b[0;34m)\u001b[0m \u001b[0;32mor\u001b[0m \u001b[0mgrandfather_obj\u001b[0m\u001b[0;34m.\u001b[0m\u001b[0mson_property\u001b[0m\u001b[0;34m(\u001b[0m\u001b[0;34m)\u001b[0m \u001b[0;31m#grandfather can access his own property but cannot access father's property and child class properties\u001b[0m\u001b[0;34m\u001b[0m\u001b[0;34m\u001b[0m\u001b[0m\n\u001b[0m",
            "\u001b[0;31mAttributeError\u001b[0m: 'Grandfather' object has no attribute 'father_property'"
          ]
        }
      ]
    },
    {
      "cell_type": "code",
      "source": [
        "#(iii) Multiple Inheritance (Diamond Problem)-\n",
        "class Parentclass1:\n",
        "  def method_par(self):\n",
        "    print(\"Method1 from Parentclass1\")\n",
        "\n",
        "class Parentclass2:\n",
        "  def method_par(self):\n",
        "    print(\"Method2 from Parentclass2\")\n",
        "\n",
        "class Childclass(Parentclass1, Parentclass2): #Parentclass1 is inherited first here so will take the properties of it only\n",
        "  def method(self):\n",
        "    print(\"Method of Child class\")\n",
        "\n",
        "obj= Childclass()\n",
        "obj.method_par()"
      ],
      "metadata": {
        "colab": {
          "base_uri": "https://localhost:8080/"
        },
        "id": "eh6LDMFk-HwD",
        "outputId": "12f65546-161a-4d13-d7d4-f0c843d6a08d"
      },
      "execution_count": null,
      "outputs": [
        {
          "output_type": "stream",
          "name": "stdout",
          "text": [
            "Method1 from Pareentclass1\n"
          ]
        }
      ]
    },
    {
      "cell_type": "code",
      "source": [
        "#(iv) Hierarchial Inheritance-\n",
        "class vehicle:\n",
        "  def info(self):\n",
        "    print(\"This is Vehicle\")\n",
        "class Car(vehicle):\n",
        "  def car_info(self):\n",
        "    print(\"This is car\")\n",
        "class Truck(vehicle):\n",
        "  def truck_info(self):\n",
        "    print(\"This is truck\")\n",
        "\n",
        "cr= Car()\n",
        "tr= Truck()\n",
        "cr.info() #this will give give info about base class of car class\n",
        "cr.car_info() # this will give info about car class\n",
        "cr.truck_info() #this will throw an error because truck also falls in the category of vehicle but not belong to car"
      ],
      "metadata": {
        "colab": {
          "base_uri": "https://localhost:8080/",
          "height": 222
        },
        "id": "_eWqEg7Z_IhA",
        "outputId": "286f5c31-2a61-4b2b-916b-97e42a1295f6"
      },
      "execution_count": null,
      "outputs": [
        {
          "output_type": "stream",
          "name": "stdout",
          "text": [
            "This is Vehicle\n",
            "This is car\n"
          ]
        },
        {
          "output_type": "error",
          "ename": "AttributeError",
          "evalue": "'Car' object has no attribute 'truck_info'",
          "traceback": [
            "\u001b[0;31m---------------------------------------------------------------------------\u001b[0m",
            "\u001b[0;31mAttributeError\u001b[0m                            Traceback (most recent call last)",
            "\u001b[0;32m<ipython-input-28-42516949f6fc>\u001b[0m in \u001b[0;36m<cell line: 0>\u001b[0;34m()\u001b[0m\n\u001b[1;32m     14\u001b[0m \u001b[0mcr\u001b[0m\u001b[0;34m.\u001b[0m\u001b[0minfo\u001b[0m\u001b[0;34m(\u001b[0m\u001b[0;34m)\u001b[0m\u001b[0;34m\u001b[0m\u001b[0;34m\u001b[0m\u001b[0m\n\u001b[1;32m     15\u001b[0m \u001b[0mcr\u001b[0m\u001b[0;34m.\u001b[0m\u001b[0mcar_info\u001b[0m\u001b[0;34m(\u001b[0m\u001b[0;34m)\u001b[0m\u001b[0;34m\u001b[0m\u001b[0;34m\u001b[0m\u001b[0m\n\u001b[0;32m---> 16\u001b[0;31m \u001b[0mcr\u001b[0m\u001b[0;34m.\u001b[0m\u001b[0mtruck_info\u001b[0m\u001b[0;34m(\u001b[0m\u001b[0;34m)\u001b[0m\u001b[0;34m\u001b[0m\u001b[0;34m\u001b[0m\u001b[0m\n\u001b[0m",
            "\u001b[0;31mAttributeError\u001b[0m: 'Car' object has no attribute 'truck_info'"
          ]
        }
      ]
    },
    {
      "cell_type": "code",
      "source": [
        "#(v)Hybrid Inheritance-\n",
        "class vehicle:\n",
        "  def vehicle_info(self):\n",
        "    print(\"Inside the vehicle class\")\n",
        "\n",
        "class cycle(vehicle):\n",
        "  def cycle_info(self):\n",
        "    print(\"Inside the cycle class\")\n",
        "\n",
        "class bike(vehicle):\n",
        "  def bike_info(self):\n",
        "    print(\"Inside the bike class\")\n",
        "\n",
        "class sportsbike(bike, vehicle):\n",
        "  def sportsbbike_info(self):\n",
        "    print(\"Inside the sportsbike class\")\n",
        "\n",
        "obj= sportsbike()\n",
        "obj.vehicle_info()\n",
        "obj.bike_info()\n",
        "obj.sportsbbike_info()"
      ],
      "metadata": {
        "colab": {
          "base_uri": "https://localhost:8080/"
        },
        "id": "rYLPG47bBGVV",
        "outputId": "db9f1b00-8930-4793-d6af-a3ea9f355837"
      },
      "execution_count": null,
      "outputs": [
        {
          "output_type": "stream",
          "name": "stdout",
          "text": [
            "Inside the vehicle class\n",
            "Inside the bike class\n",
            "Inside the sportsbike class\n"
          ]
        }
      ]
    },
    {
      "cell_type": "markdown",
      "source": [
        "**Q-7 What is the Method Resolution Order (MRO) in Python? How can you retrieve it programmatically?**"
      ],
      "metadata": {
        "id": "0wr2JKztDcyb"
      }
    },
    {
      "cell_type": "markdown",
      "source": [
        "**Ans-7)** Method Resolution Order (MRO) in Python is a resolution order of python to figure out which implementation to use. When two or more parent class have same methods or attributes, they will be resolved from left to right means whichever Parentclass will be inherited first in the derived class, that parent class properties will be added to it."
      ],
      "metadata": {
        "id": "RsmOL5Rwj0G_"
      }
    },
    {
      "cell_type": "code",
      "source": [
        "#Example of Method Resolution Order(MRO):\n",
        "class Parentclass1:\n",
        "  def method_par(self):\n",
        "    print(\"This is Parentclass1\")\n",
        "\n",
        "class Parentclass2:\n",
        "  def method_par(self):\n",
        "    print(\"This is Parentclass2\")\n",
        "\n",
        "class Child(Parentclass1,Parentclass2): #Parentclass1 is inherited first so its properties will be get inherited in the derived class Child\n",
        "  def method(self):\n",
        "    print(\"This is Child class\")\n",
        "\n",
        "obj=Child() #assigning object to the class Child\n",
        "obj.method_par()"
      ],
      "metadata": {
        "id": "Q8nVKNjtDGFu",
        "colab": {
          "base_uri": "https://localhost:8080/"
        },
        "outputId": "b8519bd6-a03e-4c4e-baad-f66f8a064bf2"
      },
      "execution_count": 4,
      "outputs": [
        {
          "output_type": "stream",
          "name": "stdout",
          "text": [
            "This is Parentclass2\n"
          ]
        }
      ]
    },
    {
      "cell_type": "code",
      "source": [
        "class Child(Parentclass2,Parentclass1): #Parentclass2 is inherited first so its properties will be get inherited in the derived class Child\n",
        "  def method(self):\n",
        "    print(\"This is Child class\")\n",
        "obj.method_par()\n"
      ],
      "metadata": {
        "colab": {
          "base_uri": "https://localhost:8080/"
        },
        "id": "MtFR4EGLlw_V",
        "outputId": "a9b20bec-8f6b-4ea4-cf25-79d98794c0e3"
      },
      "execution_count": 5,
      "outputs": [
        {
          "output_type": "stream",
          "name": "stdout",
          "text": [
            "This is Parentclass2\n"
          ]
        }
      ]
    },
    {
      "cell_type": "markdown",
      "source": [
        "**Q-8) Create an abstract base class `Shape` with an abstract method `area()`. Then create two subclasses `Circle` and `Rectangle` that implement the `area()` method.**"
      ],
      "metadata": {
        "id": "7phXap5qqVV7"
      }
    },
    {
      "cell_type": "code",
      "source": [
        "#Ans-8)\n",
        "import abc\n",
        "\n",
        "class Shape:\n",
        "  @abc.abstractmethod\n",
        "  def calculate_area(self):\n",
        "    pass\n",
        "class Circle(Shape):\n",
        "  def calculate_area(self,a):\n",
        "    if isinstance(a,(int,float)):\n",
        "      return f\"Area of circle is {3.141*a*a} as its formula is pi*radius*radius\"\n",
        "class Rectangle(Shape):\n",
        "  def calculate_area(self,a,b):\n",
        "    if isinstance(a,(int,float)) and isinstance(b,(int,float)):\n",
        "      return f\"Area of rectangle is {a*b} as its formula is length*breadth\"\n",
        "rect=Rectangle()\n",
        "print(rect.calculate_area(4,5))\n",
        "cir=Circle()\n",
        "print(cir.calculate_area(4))\n"
      ],
      "metadata": {
        "colab": {
          "base_uri": "https://localhost:8080/"
        },
        "id": "PLa7fDBeqEWC",
        "outputId": "3ad744ec-5f79-4d2a-fa5f-d7adcd1a02d5"
      },
      "execution_count": 13,
      "outputs": [
        {
          "output_type": "stream",
          "name": "stdout",
          "text": [
            "Area of rectangle is 20 as its formula is length*breadth\n",
            "Area of circle is 50.256 as its formula is pi*radius*radius\n"
          ]
        }
      ]
    },
    {
      "cell_type": "markdown",
      "source": [
        "**Q-9) Demonstrate polymorphism by creating a function that can work with different shape objects to calculate and print their areas.**"
      ],
      "metadata": {
        "id": "c2c2aJPwv-8V"
      }
    },
    {
      "cell_type": "code",
      "source": [
        "#Ans-9)\n",
        "class Shape:\n",
        "  def __init__(self,name):\n",
        "    self.name=name\n",
        "class Circle(Shape):\n",
        "  def __init__(self,name,radius):\n",
        "    super().__init__(name)\n",
        "    self.radius=radius\n",
        "class Rectangle(Shape):\n",
        "  def __init__(self,name,length,breadth):\n",
        "    super().__init__(name)\n",
        "    self.length=length\n",
        "    self.breadth=breadth\n",
        "def calculate_area(shape):\n",
        "  if isinstance(shape, Circle):\n",
        "    return shape.radius**2*3.141\n",
        "  elif isinstance(shape, Rectangle):\n",
        "    return shape.length*shape.breadth\n",
        "circ=Circle(\"Circle\",10)\n",
        "rect=Rectangle(\"Rectangle\",4,5)\n",
        "\n",
        "print(calculate_area(circ))\n",
        "print(calculate_area(rect))"
      ],
      "metadata": {
        "colab": {
          "base_uri": "https://localhost:8080/"
        },
        "id": "QgbgNAu-yT-I",
        "outputId": "2d3e4d45-2eff-447f-c904-d5a438bd01d8"
      },
      "execution_count": 24,
      "outputs": [
        {
          "output_type": "stream",
          "name": "stdout",
          "text": [
            "314.1\n",
            "20\n"
          ]
        }
      ]
    },
    {
      "cell_type": "markdown",
      "source": [
        "**Q-10) Implement encapsulation in a `BankAccount` class with private attributes for `balance` and `account_number`. Include methods for deposit, withdrawal, and balance inquiry.**"
      ],
      "metadata": {
        "id": "hEGBTwq64FEJ"
      }
    },
    {
      "cell_type": "code",
      "source": [
        "#Ans-10)\n",
        "class Bank:\n",
        "  def __init__(self,balance):\n",
        "    self.__balance=balance\n",
        "  def deposit(self,amount):\n",
        "    self.__balance+=amount\n",
        "  def withdraw(self,amount):\n",
        "    if self.__balance>=amount:\n",
        "       self.__balance-=amount\n",
        "       return True\n",
        "    else:\n",
        "       return False\n",
        "  def get_balance(self):\n",
        "      return self.__balance\n",
        "\n",
        "account=Bank(1000)  #balance in bank account 1000\n",
        "account.get_balance()"
      ],
      "metadata": {
        "colab": {
          "base_uri": "https://localhost:8080/"
        },
        "id": "Mvc70nM8x09K",
        "outputId": "0c1f6015-a1a2-4305-8365-732674fa6a1b"
      },
      "execution_count": 4,
      "outputs": [
        {
          "output_type": "execute_result",
          "data": {
            "text/plain": [
              "1000"
            ]
          },
          "metadata": {},
          "execution_count": 4
        }
      ]
    },
    {
      "cell_type": "code",
      "source": [
        "account.deposit(500) #deposit of Rs 500 in bank account\n",
        "account.get_balance()"
      ],
      "metadata": {
        "colab": {
          "base_uri": "https://localhost:8080/"
        },
        "id": "i-gGI5FiOw5p",
        "outputId": "c5df4437-7c6a-413e-c0da-1bc6fb728863"
      },
      "execution_count": 5,
      "outputs": [
        {
          "output_type": "execute_result",
          "data": {
            "text/plain": [
              "1500"
            ]
          },
          "metadata": {},
          "execution_count": 5
        }
      ]
    },
    {
      "cell_type": "code",
      "source": [
        "account.withdraw(300) #withdrawl of Rs 300 from bank account\n",
        "account.get_balance()"
      ],
      "metadata": {
        "colab": {
          "base_uri": "https://localhost:8080/"
        },
        "id": "1NNLR5MJPxQW",
        "outputId": "a54f50c3-cae8-4dc6-9a1c-10e49daca768"
      },
      "execution_count": 6,
      "outputs": [
        {
          "output_type": "execute_result",
          "data": {
            "text/plain": [
              "1200"
            ]
          },
          "metadata": {},
          "execution_count": 6
        }
      ]
    },
    {
      "cell_type": "markdown",
      "source": [
        "**Q-11)Write a class that overrides the '`__str__`' and '`__add__`' magic methods. What will these methods allow you to do?**"
      ],
      "metadata": {
        "id": "j2EAE8B8QjEn"
      }
    },
    {
      "cell_type": "code",
      "source": [
        "#Ans-11)\n",
        "class Customclass:\n",
        "  def __init__(self,value):\n",
        "    self.value=value\n",
        "\n",
        "  def __str__(self):\n",
        "     return f\"Custom class with value: {self.value}\"\n",
        "\n",
        "  def __add__(self,other):\n",
        "    if isinstance(other,Customclass):\n",
        "      return Customclass(self.value+other.value)\n",
        "    return NotImplemented\n",
        "\n",
        "obj1= Customclass(6)\n",
        "obj2= Customclass(7)\n",
        "print(obj1)\n",
        "print(obj2)\n",
        "result= obj1+obj2\n",
        "print(result)\n"
      ],
      "metadata": {
        "colab": {
          "base_uri": "https://localhost:8080/"
        },
        "id": "b997HKLsP5PI",
        "outputId": "3d736143-e4c9-4ad5-bc21-e1c978a2a645"
      },
      "execution_count": 4,
      "outputs": [
        {
          "output_type": "stream",
          "name": "stdout",
          "text": [
            "Custom class with value: 6\n",
            "Custom class with value: 7\n",
            "Custom class with value: 13\n"
          ]
        }
      ]
    },
    {
      "cell_type": "markdown",
      "source": [
        "**Q-12)  Create a decorator that measures and prints the execution time of a function.**"
      ],
      "metadata": {
        "id": "AdBiMfV094Fr"
      }
    },
    {
      "cell_type": "code",
      "source": [
        "#Ans-12)\n",
        "import time\n",
        "\n",
        "def timer_decorator(func):\n",
        "  def timer(*args,**kwargs):\n",
        "    start=time.time()\n",
        "    result= func(*args,**kwargs)\n",
        "    end=time.time()\n",
        "    print(\"The time for executing the code is: \", end-start)\n",
        "    return result\n",
        "  return timer\n",
        "\n",
        "@timer_decorator\n",
        "def my_function():\n",
        "  print(12*1000)\n",
        "\n",
        "my_function()"
      ],
      "metadata": {
        "colab": {
          "base_uri": "https://localhost:8080/"
        },
        "id": "13rGLy2k9-xC",
        "outputId": "b34fc5bd-73e6-4de9-d665-f30124c936a8"
      },
      "execution_count": 9,
      "outputs": [
        {
          "output_type": "stream",
          "name": "stdout",
          "text": [
            "12000\n",
            "The time for executing the code is:  6.842613220214844e-05\n"
          ]
        }
      ]
    },
    {
      "cell_type": "markdown",
      "source": [
        "**Q-13) Explain the concept of the Diamond Problem in multiple inheritance. How does Python resolve it?**"
      ],
      "metadata": {
        "id": "ZBwXRPnKA2cL"
      }
    },
    {
      "cell_type": "markdown",
      "source": [
        "**Ans-13)** Diamond problem is a specific problem that can arise in multiple inheritance. The problem which arises this diamond problem is when there are more than one parent class, it becomes difficult to decide of which parent class should this derived class inherit its properties from. Python resolves this through Method Resolution Order(MRO) in which the parent class which is written first in the argument of child class, its properties will only be get inherited in that child/derived class."
      ],
      "metadata": {
        "id": "-YfMI24YBvJo"
      }
    },
    {
      "cell_type": "code",
      "source": [
        "#Example of Method Resolution Order(MRO):\n",
        "class Parentclass1:\n",
        "  def method_par(self):\n",
        "    print(\"This is Parentclass1\")\n",
        "\n",
        "class Parentclass2:\n",
        "  def method_par(self):\n",
        "    print(\"This is Parentclass2\")\n",
        "\n",
        "class Child(Parentclass1,Parentclass2): #Parentclass1 is inherited first so its properties will be get inherited in the derived class Child\n",
        "  def method(self):\n",
        "    print(\"This is Child class\")\n",
        "\n",
        "obj=Child() #assigning object to the class Child\n",
        "obj.method_par()"
      ],
      "metadata": {
        "colab": {
          "base_uri": "https://localhost:8080/"
        },
        "id": "wuZUcixvDFPy",
        "outputId": "7f296865-877f-4210-da72-8756be3ca69a"
      },
      "execution_count": 28,
      "outputs": [
        {
          "output_type": "stream",
          "name": "stdout",
          "text": [
            "This is Parentclass1\n"
          ]
        }
      ]
    },
    {
      "cell_type": "markdown",
      "source": [
        "**Q-14)  Write a class method that keeps track of the number of instances created from a class.**"
      ],
      "metadata": {
        "id": "JAXEqPu-FBDr"
      }
    },
    {
      "cell_type": "code",
      "source": [
        "#Ans-14)\n",
        "class InstanceTracker:\n",
        "    # Class variable to track the number of instances\n",
        "    instance_count = 0\n",
        "\n",
        "    def __init__(self):\n",
        "        # Each time an instance is created, increment the counter\n",
        "        InstanceTracker.instance_count += 1\n",
        "\n",
        "    @classmethod\n",
        "    def get_instance_count(cls):\n",
        "        # This class method returns the number of instances created\n",
        "        return cls.instance_count\n",
        "\n",
        "# Creating instances\n",
        "obj1 = InstanceTracker()\n",
        "obj2 = InstanceTracker()\n",
        "obj3 = InstanceTracker()\n",
        "\n",
        "# Getting the number of instances created using the class method\n",
        "print(InstanceTracker.get_instance_count())  # Output: 3\n"
      ],
      "metadata": {
        "colab": {
          "base_uri": "https://localhost:8080/"
        },
        "id": "hP5NGwsJEVa5",
        "outputId": "3699e9b1-c685-4fe4-dcb3-66473e6db52a"
      },
      "execution_count": 29,
      "outputs": [
        {
          "output_type": "stream",
          "name": "stdout",
          "text": [
            "3\n"
          ]
        }
      ]
    },
    {
      "cell_type": "markdown",
      "source": [
        "**Q-15) Implement a static method in a class that checks if a given year is a leap year.**"
      ],
      "metadata": {
        "id": "Mv-9vE4sGDZU"
      }
    },
    {
      "cell_type": "code",
      "source": [
        "#Ans-15)\n",
        "class LeapYear:\n",
        "  @staticmethod\n",
        "  def is_leap_year(year):\n",
        "    if(year%4==0 and year%100!=0) or (year%400==0):\n",
        "      return True\n",
        "    return False\n",
        "\n",
        "year=2024\n",
        "print(LeapYear.is_leap_year(year))\n",
        "year=2023\n",
        "print(LeapYear.is_leap_year(year))"
      ],
      "metadata": {
        "colab": {
          "base_uri": "https://localhost:8080/"
        },
        "id": "h1F4UOjSFzDx",
        "outputId": "2d6f7a55-5a86-481b-e0c2-9f865891e311"
      },
      "execution_count": 32,
      "outputs": [
        {
          "output_type": "stream",
          "name": "stdout",
          "text": [
            "True\n",
            "False\n"
          ]
        }
      ]
    },
    {
      "cell_type": "code",
      "source": [],
      "metadata": {
        "id": "05W_LXS2H5g6"
      },
      "execution_count": null,
      "outputs": []
    }
  ]
}
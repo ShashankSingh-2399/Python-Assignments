{
  "nbformat": 4,
  "nbformat_minor": 0,
  "metadata": {
    "colab": {
      "provenance": []
    },
    "kernelspec": {
      "name": "python3",
      "display_name": "Python 3"
    },
    "language_info": {
      "name": "python"
    }
  },
  "cells": [
    {
      "cell_type": "code",
      "execution_count": null,
      "metadata": {
        "id": "9jyXivu5n_83"
      },
      "outputs": [],
      "source": []
    },
    {
      "cell_type": "markdown",
      "source": [
        "\n",
        "#Q-1.Explain the key features of Python that make it a popular choice for programming"
      ],
      "metadata": {
        "id": "CPbK70fKpefv"
      }
    },
    {
      "cell_type": "code",
      "source": [
        "# Ans: Key features of Python that make it a popular choice for programming are as follows:\n",
        "  1) It is widely used the worlwide industries in present era like in the field of Data Science, Data Analyst, ML Engineer, Gaming etc.\n",
        "  2) It provides us one of the most huge collection of varieties of liabraries for doing codings for almost all kind of possible liabraries which are getting used today in any field for any purpose(s).\n",
        "  3) Python have its own one of the largest community for platform which provides help to its users in every possible way if we get stuck in any step or line of code.\n",
        "  4) It can be used for frontend, backend and web development types of works.\n",
        "  5) It helps in bringing automation in many types of works like in the field of robotics, data processing or cleaning, creating Artificial Inteligence equipped softwares etc.\n",
        "  6) It can be used for Image processing also\n",
        "  7) Python, now a days, are also used for maintaing databases.\n",
        "  8) Ease of learning as its code code language are easy to understand.\n",
        "  9) It is versatile in nature as it can be helpful in every kinds of works researches, industries or even for in any kinds of purposes.\n"
      ],
      "metadata": {
        "colab": {
          "base_uri": "https://localhost:8080/",
          "height": 106
        },
        "id": "baSi7CtsqGMz",
        "outputId": "0d46d9d5-ffc5-423e-d663-c56264ebcbe2"
      },
      "execution_count": null,
      "outputs": [
        {
          "output_type": "error",
          "ename": "IndentationError",
          "evalue": "unexpected indent (<ipython-input-1-6b4c4cafd31f>, line 2)",
          "traceback": [
            "\u001b[0;36m  File \u001b[0;32m\"<ipython-input-1-6b4c4cafd31f>\"\u001b[0;36m, line \u001b[0;32m2\u001b[0m\n\u001b[0;31m    1)It is widely used the worlwide industries in present era like in the field of Data Science, Data Analyst, ML Engineer, Gaming etc.\u001b[0m\n\u001b[0m    ^\u001b[0m\n\u001b[0;31mIndentationError\u001b[0m\u001b[0;31m:\u001b[0m unexpected indent\n"
          ]
        }
      ]
    },
    {
      "cell_type": "code",
      "source": [],
      "metadata": {
        "id": "vdtdJY4Dp_vm"
      },
      "execution_count": null,
      "outputs": []
    },
    {
      "cell_type": "markdown",
      "source": [
        "#Q-2 Describe the role of predefined keywords in Python and provide examples of how they are used in a program."
      ],
      "metadata": {
        "id": "rwIYoZzUu_ZY"
      }
    },
    {
      "cell_type": "markdown",
      "source": [],
      "metadata": {
        "id": "aB86Dm97yYx2"
      }
    },
    {
      "cell_type": "markdown",
      "source": [
        "#Ans-2) Predefined Keywords holds a special meaning and specific purposes to perform. Few out of any predefined keywords are as given below along with their purposes to perform and their respective examples:\n",
        "1) int: It stands for Integer & is used to assign integer values to the variable. For Eg: a=5\n",
        "                  type(a)\n",
        "*Ans wil be:*     int\n",
        "\n",
        "2) strng: It is used to to string (character) values to the variable. Value assigned to the variable as string are always written under \"\" symbols only.\n",
        "                 For eg: a=\"Shashank\"\n",
        "                         type(a)\n",
        "*Ans will be:*           strng\n",
        "\n",
        "3)float: It is used to provide decimal numerical values to the variable.\n",
        "For Eg:             a=5.2\n",
        "                    type(a)\n",
        "*Ans will be:*      float            \n",
        "\n",
        "4)bool: This keyword is used to get know the result in true or false format.\n",
        "For eg:             a=2\n",
        "                    b=5\n",
        "                    a==b\n",
        "*Ans will be:*     false    \n",
        "\n",
        "There are many more types of predefined keywords also: false, none, class, continue, as, and , etc"
      ],
      "metadata": {
        "id": "-AbjYbrPvGud"
      }
    },
    {
      "cell_type": "code",
      "source": [
        "# Example of int\n",
        "a=5\n",
        "type(a)"
      ],
      "metadata": {
        "colab": {
          "base_uri": "https://localhost:8080/"
        },
        "id": "-iIMIuYF2ed1",
        "outputId": "81a4405a-99e5-4595-e5f7-4d964a4cd5a0"
      },
      "execution_count": null,
      "outputs": [
        {
          "output_type": "execute_result",
          "data": {
            "text/plain": [
              "int"
            ]
          },
          "metadata": {},
          "execution_count": 3
        }
      ]
    },
    {
      "cell_type": "code",
      "source": [
        "#Example of string\n",
        "name=\"Shashank\"\n",
        "type(name)\n"
      ],
      "metadata": {
        "colab": {
          "base_uri": "https://localhost:8080/"
        },
        "id": "LnkaGAZew2Ef",
        "outputId": "c91383f2-eaae-4551-bdbd-9d26e433da28"
      },
      "execution_count": null,
      "outputs": [
        {
          "output_type": "execute_result",
          "data": {
            "text/plain": [
              "str"
            ]
          },
          "metadata": {},
          "execution_count": 5
        }
      ]
    },
    {
      "cell_type": "code",
      "source": [
        "#Example of float keyword\n",
        "value_1=1.5\n",
        "type(value_1)"
      ],
      "metadata": {
        "colab": {
          "base_uri": "https://localhost:8080/"
        },
        "id": "I-kQeydX3r-z",
        "outputId": "f58cccea-2221-48ae-c901-5f45f677b6a3"
      },
      "execution_count": null,
      "outputs": [
        {
          "output_type": "execute_result",
          "data": {
            "text/plain": [
              "float"
            ]
          },
          "metadata": {},
          "execution_count": 9
        }
      ]
    },
    {
      "cell_type": "code",
      "source": [
        "#Example of Bool keyword\n",
        "a=1\n",
        "b=2\n",
        "a==b"
      ],
      "metadata": {
        "colab": {
          "base_uri": "https://localhost:8080/"
        },
        "id": "zeLJAZud4lFs",
        "outputId": "6696d30b-f259-4173-ffb3-6668589bea9d"
      },
      "execution_count": null,
      "outputs": [
        {
          "output_type": "execute_result",
          "data": {
            "text/plain": [
              "False"
            ]
          },
          "metadata": {},
          "execution_count": 10
        }
      ]
    },
    {
      "cell_type": "markdown",
      "source": [
        "#Q-3 Compare and contrast mutable and immutable objects in Python with examples."
      ],
      "metadata": {
        "id": "ANiN4wxYwF8H"
      }
    },
    {
      "cell_type": "markdown",
      "source": [
        "Ans-3) **Mutable Objects:** As the name includes the term **mutable**, which means holds the ability to change, add or delete the data of the assigned variables. Few mutable objects are: list, sets, dictionary, array etc.\n",
        "\n",
        "Whereas, in its opposite, in **immutable objects**, values ones assigned to any variable in any data type format can never be get changed, added or removed later on. Few immutable objects are: tuples , string etc."
      ],
      "metadata": {
        "id": "p4xqtUsDY5v4"
      }
    },
    {
      "cell_type": "code",
      "source": [
        "#Examples of Mutable Objects: (1) list[]- It just holds the collection of elements beloging to all types data types variables and does not do the filtering of providing unique elements like set{} do.\n",
        "list_values=[1,2,3.5,\"Shashank\",\"Nature\",True]\n",
        "list_values"
      ],
      "metadata": {
        "colab": {
          "base_uri": "https://localhost:8080/"
        },
        "id": "Ewv0L0EicVvm",
        "outputId": "001bf962-a2c9-450a-974e-efff598667b7"
      },
      "execution_count": null,
      "outputs": [
        {
          "output_type": "execute_result",
          "data": {
            "text/plain": [
              "[1, 2, 3.5, 'Shashank', 'Nature', True]"
            ]
          },
          "metadata": {},
          "execution_count": 1
        }
      ]
    },
    {
      "cell_type": "code",
      "source": [
        "#now we will do changes in the values of above by changing \"Nature\" element to \"Environment\" element.\n",
        "list_values[4]=\"Environment\"\n",
        "list_values[5]=False\n",
        "list_values"
      ],
      "metadata": {
        "colab": {
          "base_uri": "https://localhost:8080/"
        },
        "id": "rOJw4soZfScE",
        "outputId": "96ebac2f-2ed0-40c2-be05-44c915f8266c"
      },
      "execution_count": null,
      "outputs": [
        {
          "output_type": "execute_result",
          "data": {
            "text/plain": [
              "[1, 2, 3.5, 'Shashank', 'Environment', False]"
            ]
          },
          "metadata": {},
          "execution_count": 5
        }
      ]
    },
    {
      "cell_type": "code",
      "source": [
        "(2) # set{} : It removes the duplicate elements from the data and gives only unique elements in result, Henceforth, indexing is not possible in it.\n",
        "set_values={1,2,13.5,True,False,True,\"Shashank\",\"Nature\",\"Shashank\"}\n",
        "set_values"
      ],
      "metadata": {
        "colab": {
          "base_uri": "https://localhost:8080/"
        },
        "id": "lEIGwQaUfuMs",
        "outputId": "a09bbf7f-9781-4d41-ca81-30a378328823"
      },
      "execution_count": null,
      "outputs": [
        {
          "output_type": "execute_result",
          "data": {
            "text/plain": [
              "{1, 13.5, 2, False, 'Nature', 'Shashank'}"
            ]
          },
          "metadata": {},
          "execution_count": 7
        }
      ]
    },
    {
      "cell_type": "code",
      "source": [
        "#now we will do changes the values of above by adding one more element \"Saturn\"\n",
        "set_values.add(\"Saturn\")\n",
        "set_values"
      ],
      "metadata": {
        "colab": {
          "base_uri": "https://localhost:8080/"
        },
        "id": "9-ICfFyTgbLN",
        "outputId": "79cdcb55-a0c0-45af-ed36-6bad1992b6c9"
      },
      "execution_count": null,
      "outputs": [
        {
          "output_type": "execute_result",
          "data": {
            "text/plain": [
              "{1, 13.5, 2, False, 'Nature', 'Saturn', 'Shashank'}"
            ]
          },
          "metadata": {},
          "execution_count": 8
        }
      ]
    },
    {
      "cell_type": "code",
      "source": [
        "#Examples of Immutable Objects: 1) tuples()\n",
        "tuple_values=(1,2,3.5,\"Shashank\",\"Nature\",True)\n",
        "print(tuple_values[3])\n",
        "tuple_values[3]=\"Moon\"\n"
      ],
      "metadata": {
        "colab": {
          "base_uri": "https://localhost:8080/",
          "height": 193
        },
        "id": "0wpIDlMghpR1",
        "outputId": "26b7bd8a-6d18-4f2d-d571-71e51821a0ab"
      },
      "execution_count": null,
      "outputs": [
        {
          "output_type": "stream",
          "name": "stdout",
          "text": [
            "Shashank\n"
          ]
        },
        {
          "output_type": "error",
          "ename": "TypeError",
          "evalue": "'tuple' object does not support item assignment",
          "traceback": [
            "\u001b[0;31m---------------------------------------------------------------------------\u001b[0m",
            "\u001b[0;31mTypeError\u001b[0m                                 Traceback (most recent call last)",
            "\u001b[0;32m<ipython-input-10-dc0f37e500a6>\u001b[0m in \u001b[0;36m<cell line: 4>\u001b[0;34m()\u001b[0m\n\u001b[1;32m      2\u001b[0m \u001b[0mtuple_values\u001b[0m\u001b[0;34m=\u001b[0m\u001b[0;34m(\u001b[0m\u001b[0;36m1\u001b[0m\u001b[0;34m,\u001b[0m\u001b[0;36m2\u001b[0m\u001b[0;34m,\u001b[0m\u001b[0;36m3.5\u001b[0m\u001b[0;34m,\u001b[0m\u001b[0;34m\"Shashank\"\u001b[0m\u001b[0;34m,\u001b[0m\u001b[0;34m\"Nature\"\u001b[0m\u001b[0;34m,\u001b[0m\u001b[0;32mTrue\u001b[0m\u001b[0;34m)\u001b[0m\u001b[0;34m\u001b[0m\u001b[0;34m\u001b[0m\u001b[0m\n\u001b[1;32m      3\u001b[0m \u001b[0mprint\u001b[0m\u001b[0;34m(\u001b[0m\u001b[0mtuple_values\u001b[0m\u001b[0;34m[\u001b[0m\u001b[0;36m3\u001b[0m\u001b[0;34m]\u001b[0m\u001b[0;34m)\u001b[0m\u001b[0;34m\u001b[0m\u001b[0;34m\u001b[0m\u001b[0m\n\u001b[0;32m----> 4\u001b[0;31m \u001b[0mtuple_values\u001b[0m\u001b[0;34m[\u001b[0m\u001b[0;36m3\u001b[0m\u001b[0;34m]\u001b[0m\u001b[0;34m=\u001b[0m\u001b[0;34m\"Moon\"\u001b[0m\u001b[0;34m\u001b[0m\u001b[0;34m\u001b[0m\u001b[0m\n\u001b[0m",
            "\u001b[0;31mTypeError\u001b[0m: 'tuple' object does not support item assignment"
          ]
        }
      ]
    },
    {
      "cell_type": "code",
      "source": [
        "2) # String()\n",
        "string_values=\"Shashank\"\n",
        "string_values(0)=\"Shobhit\"\n",
        "string_values"
      ],
      "metadata": {
        "colab": {
          "base_uri": "https://localhost:8080/",
          "height": 106
        },
        "id": "ay-phXJciYWA",
        "outputId": "4ad8f09e-d122-468f-8813-5b5200afc268"
      },
      "execution_count": null,
      "outputs": [
        {
          "output_type": "error",
          "ename": "SyntaxError",
          "evalue": "unmatched ')' (<ipython-input-13-7a7b4a40b0c5>, line 1)",
          "traceback": [
            "\u001b[0;36m  File \u001b[0;32m\"<ipython-input-13-7a7b4a40b0c5>\"\u001b[0;36m, line \u001b[0;32m1\u001b[0m\n\u001b[0;31m    2) # String()\u001b[0m\n\u001b[0m     ^\u001b[0m\n\u001b[0;31mSyntaxError\u001b[0m\u001b[0;31m:\u001b[0m unmatched ')'\n"
          ]
        }
      ]
    },
    {
      "cell_type": "markdown",
      "source": [
        "Q-4) Discuss the different types of operators in Python and provide examples of how they are used."
      ],
      "metadata": {
        "id": "Cjf02C0ukKLs"
      }
    },
    {
      "cell_type": "markdown",
      "source": [
        "**Ans-4)** Operators are the special keywords or symbols which are used to perform specific operations. The values on which these operators works are called \"operand\". There are various types of operators in Python. They are as follows:-\n",
        "\n",
        "1.  **Logical Operator-** These are the operators which are used to join two or more relational expressions & return the result either true or false. These include the following operator:\n",
        "\n",
        "*   **AND Operator-** This requires all the provided conditions to be true & if any condition out all the conditions results false, the whole result result will become 0 i.e false.            \n",
        "*   **OR Operator-** This requires any out all the provided conditions to be true to result whole result as true. **OR Operator** only gives false results when none of the the conditions get fulfilled.\n",
        "*   **NOT Operator-** This operator is required to give opposite results.\n",
        "\n",
        "\n",
        "2.   **Assignment Operators-** These types of operators are used for assigning values to the variables. These are of following types:\n",
        "\n",
        "*   Equals To Operator(=)\n",
        "*   Add & Assign (+=)\n",
        "*   Subtract & Assign (-=)\n",
        "*   Multiply & Assign (*=)\n",
        "*   Divide & Assign (/=)\n",
        "*   Exponent Assigning Operator (**=)                                    \n",
        "*   Modulus Operator(%=)\n",
        "\n",
        "3.  **Conditional or Relational Operators-** These types of operators are used to perform comparision and result a boolean value either true or false. These are of following types\n",
        "* Greater Than(>)\n",
        "* Lesser Than (<)\n",
        "* Greater Than or Equals to (>=)\n",
        "* Lesser Than or Equals to (<=)\n",
        "* Equals to (==)\n",
        "* Not Equals to (!=)\n",
        "\n",
        "4. **Arithematic Operators-** These types of operators are used to perform the arithematic operations and include the following:\n",
        "* Addition Operator (+)\n",
        "* Subtraction Operator (-)\n",
        "* Multiply Operator (*)\n",
        "* Division Operator (/)\n",
        "* Modulus Operator (%): This modulus operator operator is used to know remainder of the two integer values.\n",
        "\n",
        "5. **Membership Operator-** This type of operator confirms the presence of character or no. in the provided elements of a variable(s). It has two main types of operators:\n",
        "*   **in Operator-** This operator give true result if the asked character or no. will be present in that variable's element(s).\n",
        "*   **not in Operator-** This type of operator give true true result if the asked character or value will not be present in the elements of that variable.\n",
        "\n",
        "6. **Identity Operator-** It confirns whether the value assigned to one variable is also matching the value of its comparing variable or not. If matches, it will result true or else will result false.\n",
        "\n",
        "7) **Bitwise Operator-** It operates at bit level and manipulates individual bits within integer. It is of 3 types:\n",
        "*  **AND Bitwise Operator-** All perform, it requires its all conditions to be true first.\n",
        "*  **Negation Bitwise Operator-** This operator gives the next consecutive number of the entered value but with negative symbol(-).\n",
        "*  **Bitwise XOR Operator-** It results true only if one of the condition should always be true. Even if all the condition get true, it will result false then also because it requires only & only one condition to be true and not more than that.\n",
        "\n",
        "\n",
        "\n"
      ],
      "metadata": {
        "id": "EB1thpc0N973"
      }
    },
    {
      "cell_type": "code",
      "source": [
        "# Examples of all above mentioned operators and there types are given below:\n",
        "#1) Logical Operators:\n",
        "# 1.a) AND Operator\n",
        "value= 10\n",
        "value>5 and value<15\n",
        "\n",
        ""
      ],
      "metadata": {
        "colab": {
          "base_uri": "https://localhost:8080/"
        },
        "id": "1JbimLu8o26P",
        "outputId": "177f4092-3478-49e8-ad27-227c8d54b709"
      },
      "execution_count": 4,
      "outputs": [
        {
          "output_type": "execute_result",
          "data": {
            "text/plain": [
              "True"
            ]
          },
          "metadata": {},
          "execution_count": 4
        }
      ]
    },
    {
      "cell_type": "code",
      "source": [
        "#1.b) OR Operator\n",
        "value= 10\n",
        "value>5 or value<15"
      ],
      "metadata": {
        "colab": {
          "base_uri": "https://localhost:8080/"
        },
        "id": "FNTMTxLYrS_s",
        "outputId": "028f3ca8-8174-45d8-ac1b-c777aa04263a"
      },
      "execution_count": 7,
      "outputs": [
        {
          "output_type": "execute_result",
          "data": {
            "text/plain": [
              "True"
            ]
          },
          "metadata": {},
          "execution_count": 7
        }
      ]
    },
    {
      "cell_type": "code",
      "source": [
        "#1.c) NOT Operator\n",
        "a=12\n",
        "b=12\n",
        "not(a==b)\n"
      ],
      "metadata": {
        "colab": {
          "base_uri": "https://localhost:8080/"
        },
        "id": "W8gEG3-WrP6d",
        "outputId": "216f3c84-c418-481c-922a-573ac20980a7"
      },
      "execution_count": 9,
      "outputs": [
        {
          "output_type": "execute_result",
          "data": {
            "text/plain": [
              "False"
            ]
          },
          "metadata": {},
          "execution_count": 9
        }
      ]
    },
    {
      "cell_type": "code",
      "source": [
        "#2) Assignment Operators:\n",
        "#2.a) Addition Operator\n",
        "a1=132\n",
        "a2=164\n",
        "a1+=a2\n",
        "a1"
      ],
      "metadata": {
        "colab": {
          "base_uri": "https://localhost:8080/"
        },
        "id": "w62DgaXLsTvM",
        "outputId": "a7a95b24-54d0-43f8-8000-529c20d17004"
      },
      "execution_count": 14,
      "outputs": [
        {
          "output_type": "execute_result",
          "data": {
            "text/plain": [
              "296"
            ]
          },
          "metadata": {},
          "execution_count": 14
        }
      ]
    },
    {
      "cell_type": "code",
      "source": [
        "#2.b) Subtraction Operator\n",
        "s1=184\n",
        "s2=164\n",
        "s1-=s2\n",
        "s1"
      ],
      "metadata": {
        "colab": {
          "base_uri": "https://localhost:8080/"
        },
        "id": "oHfijerTtHBM",
        "outputId": "4d294f0c-ed74-42d1-ce54-636cfbe00b9a"
      },
      "execution_count": 15,
      "outputs": [
        {
          "output_type": "execute_result",
          "data": {
            "text/plain": [
              "20"
            ]
          },
          "metadata": {},
          "execution_count": 15
        }
      ]
    },
    {
      "cell_type": "code",
      "source": [
        "#2.c) Multiply Operator\n",
        "multiply_1=10\n",
        "multiply_2=19\n",
        "multiply_1*=multiply_2\n",
        "multiply_1"
      ],
      "metadata": {
        "colab": {
          "base_uri": "https://localhost:8080/"
        },
        "id": "BthT49JvtVUz",
        "outputId": "1e312baf-5a1c-44ac-dc5b-bbb9d1e040ad"
      },
      "execution_count": 18,
      "outputs": [
        {
          "output_type": "execute_result",
          "data": {
            "text/plain": [
              "190"
            ]
          },
          "metadata": {},
          "execution_count": 18
        }
      ]
    },
    {
      "cell_type": "code",
      "source": [
        "#2.d) Equals to (=) Operator\n",
        "a=515\n",
        "a"
      ],
      "metadata": {
        "colab": {
          "base_uri": "https://localhost:8080/"
        },
        "id": "E2_RUyk0uEs2",
        "outputId": "7ccc4e0d-9ac9-47c9-8eb9-65560a598a62"
      },
      "execution_count": 19,
      "outputs": [
        {
          "output_type": "execute_result",
          "data": {
            "text/plain": [
              "515"
            ]
          },
          "metadata": {},
          "execution_count": 19
        }
      ]
    },
    {
      "cell_type": "code",
      "source": [
        "#2.e) Divide Operator\n",
        "a=72\n",
        "b=4\n",
        "a/=b\n",
        "a"
      ],
      "metadata": {
        "colab": {
          "base_uri": "https://localhost:8080/"
        },
        "id": "ZPHZlr2auUcL",
        "outputId": "00eaf3b5-d5d6-44bd-8834-9501cd865534"
      },
      "execution_count": 20,
      "outputs": [
        {
          "output_type": "execute_result",
          "data": {
            "text/plain": [
              "18.0"
            ]
          },
          "metadata": {},
          "execution_count": 20
        }
      ]
    },
    {
      "cell_type": "code",
      "source": [
        "#2.f) Modulus Operator\n",
        "a=113\n",
        "b=2\n",
        "a%=b\n",
        "a"
      ],
      "metadata": {
        "colab": {
          "base_uri": "https://localhost:8080/"
        },
        "id": "8mhp4J67uhnX",
        "outputId": "6586871f-bebf-4225-9afc-efbf43b0130c"
      },
      "execution_count": 21,
      "outputs": [
        {
          "output_type": "execute_result",
          "data": {
            "text/plain": [
              "1"
            ]
          },
          "metadata": {},
          "execution_count": 21
        }
      ]
    },
    {
      "cell_type": "code",
      "source": [
        "#2.g) Exponental Operator\n",
        "a=4\n",
        "b=3\n",
        "a**=b\n",
        "a\n"
      ],
      "metadata": {
        "colab": {
          "base_uri": "https://localhost:8080/"
        },
        "id": "_44DZiOeuxZx",
        "outputId": "201a7db3-7a1b-427c-8cad-90839d1db5ce"
      },
      "execution_count": 24,
      "outputs": [
        {
          "output_type": "execute_result",
          "data": {
            "text/plain": [
              "64"
            ]
          },
          "metadata": {},
          "execution_count": 24
        }
      ]
    },
    {
      "cell_type": "code",
      "source": [
        "#3) Conditional or Relational Operator\n",
        "#3.a) Greater Than operator (>)\n",
        "a=10\n",
        "b=24\n",
        "a>b"
      ],
      "metadata": {
        "colab": {
          "base_uri": "https://localhost:8080/"
        },
        "id": "S2_DbrOQvIZI",
        "outputId": "dbb6bb4e-255f-4796-8c49-e0aca77c8f92"
      },
      "execution_count": 25,
      "outputs": [
        {
          "output_type": "execute_result",
          "data": {
            "text/plain": [
              "False"
            ]
          },
          "metadata": {},
          "execution_count": 25
        }
      ]
    },
    {
      "cell_type": "code",
      "source": [
        "#3.b) Greater Than or Equals to (>=)\n",
        "a=12\n",
        "b=12\n",
        "a>=b"
      ],
      "metadata": {
        "colab": {
          "base_uri": "https://localhost:8080/"
        },
        "id": "ume272HZvrdh",
        "outputId": "5e0e26c2-c030-4004-bfc7-aed75a8214b7"
      },
      "execution_count": 26,
      "outputs": [
        {
          "output_type": "execute_result",
          "data": {
            "text/plain": [
              "True"
            ]
          },
          "metadata": {},
          "execution_count": 26
        }
      ]
    },
    {
      "cell_type": "code",
      "source": [
        "#3.c) Lesser Than (<)\n",
        "a=42\n",
        "b=36\n",
        "a<b"
      ],
      "metadata": {
        "colab": {
          "base_uri": "https://localhost:8080/"
        },
        "id": "ZpivE8l4v-LZ",
        "outputId": "9a0138c3-97c0-46c3-b7c7-01e385706536"
      },
      "execution_count": 27,
      "outputs": [
        {
          "output_type": "execute_result",
          "data": {
            "text/plain": [
              "False"
            ]
          },
          "metadata": {},
          "execution_count": 27
        }
      ]
    },
    {
      "cell_type": "code",
      "source": [
        "#3.d) Lesser Than or Equal To (<=)\n",
        "a=42\n",
        "b=65\n",
        "a<=b"
      ],
      "metadata": {
        "colab": {
          "base_uri": "https://localhost:8080/"
        },
        "id": "VXT_BdjiwGNr",
        "outputId": "e5ce7a00-15a9-4c7e-fee7-11eb72b7c95d"
      },
      "execution_count": 29,
      "outputs": [
        {
          "output_type": "execute_result",
          "data": {
            "text/plain": [
              "True"
            ]
          },
          "metadata": {},
          "execution_count": 29
        }
      ]
    },
    {
      "cell_type": "code",
      "source": [
        "#3.e) Not Equals To (!=)\n",
        "a=42\n",
        "b=43\n",
        "a!=b"
      ],
      "metadata": {
        "colab": {
          "base_uri": "https://localhost:8080/"
        },
        "id": "RK2wYoC_wWZC",
        "outputId": "8930d078-7d99-4587-b5e7-34857d1db303"
      },
      "execution_count": 31,
      "outputs": [
        {
          "output_type": "execute_result",
          "data": {
            "text/plain": [
              "True"
            ]
          },
          "metadata": {},
          "execution_count": 31
        }
      ]
    },
    {
      "cell_type": "code",
      "source": [
        "#4) Arithematic Operator\n",
        "#4.a) Addition Operator\n",
        "a=42\n",
        "b=34\n",
        "a+b\n"
      ],
      "metadata": {
        "colab": {
          "base_uri": "https://localhost:8080/"
        },
        "id": "GI1tZEhwwz0G",
        "outputId": "dd628088-6135-42c9-e416-7e7dc4b5f879"
      },
      "execution_count": 32,
      "outputs": [
        {
          "output_type": "execute_result",
          "data": {
            "text/plain": [
              "76"
            ]
          },
          "metadata": {},
          "execution_count": 32
        }
      ]
    },
    {
      "cell_type": "code",
      "source": [
        "#4.b) Subtraction Operator\n",
        "a=36\n",
        "b=42\n",
        "a-b"
      ],
      "metadata": {
        "colab": {
          "base_uri": "https://localhost:8080/"
        },
        "id": "RT7BOWmoxKXq",
        "outputId": "364f2d9c-deba-43a7-d6ad-324016c0d618"
      },
      "execution_count": 33,
      "outputs": [
        {
          "output_type": "execute_result",
          "data": {
            "text/plain": [
              "-6"
            ]
          },
          "metadata": {},
          "execution_count": 33
        }
      ]
    },
    {
      "cell_type": "code",
      "source": [
        "#4.c) Multiply Operator\n",
        "a=12\n",
        "b=15\n",
        "a*b"
      ],
      "metadata": {
        "colab": {
          "base_uri": "https://localhost:8080/"
        },
        "id": "tO6-Q4RixWss",
        "outputId": "709f09dc-5212-4434-d4cf-b57f6dfbc4e1"
      },
      "execution_count": 34,
      "outputs": [
        {
          "output_type": "execute_result",
          "data": {
            "text/plain": [
              "180"
            ]
          },
          "metadata": {},
          "execution_count": 34
        }
      ]
    },
    {
      "cell_type": "code",
      "source": [
        "#4.d) Division Operator\n",
        "a=12\n",
        "b=4\n",
        "a/b"
      ],
      "metadata": {
        "colab": {
          "base_uri": "https://localhost:8080/"
        },
        "id": "ZDCXna9OxfPM",
        "outputId": "a2f53203-2f6f-45f4-899c-2edc4700a4e9"
      },
      "execution_count": 35,
      "outputs": [
        {
          "output_type": "execute_result",
          "data": {
            "text/plain": [
              "3.0"
            ]
          },
          "metadata": {},
          "execution_count": 35
        }
      ]
    },
    {
      "cell_type": "code",
      "source": [
        "#4.e) Modulus Operator\n",
        "a=99\n",
        "b=4\n",
        "a%b"
      ],
      "metadata": {
        "colab": {
          "base_uri": "https://localhost:8080/"
        },
        "id": "jIzI1N0XxrO2",
        "outputId": "23bb2364-633e-4ffc-d605-d239ecea9ae7"
      },
      "execution_count": 37,
      "outputs": [
        {
          "output_type": "execute_result",
          "data": {
            "text/plain": [
              "3"
            ]
          },
          "metadata": {},
          "execution_count": 37
        }
      ]
    },
    {
      "cell_type": "code",
      "source": [
        "#5) Membership Operator\n",
        "#5.a) in Operator\n",
        "name=\"Shashank\"\n",
        "\"k\" in name"
      ],
      "metadata": {
        "colab": {
          "base_uri": "https://localhost:8080/"
        },
        "id": "hvRufgZUyAKY",
        "outputId": "4c5eadeb-daa9-4d95-cc0b-91ab855e1e31"
      },
      "execution_count": 38,
      "outputs": [
        {
          "output_type": "execute_result",
          "data": {
            "text/plain": [
              "True"
            ]
          },
          "metadata": {},
          "execution_count": 38
        }
      ]
    },
    {
      "cell_type": "code",
      "source": [
        "#5.b) not in operator\n",
        "name=\"Shashank\"\n",
        "\"k\" not in name"
      ],
      "metadata": {
        "colab": {
          "base_uri": "https://localhost:8080/"
        },
        "id": "4Ve5gOTEyJzy",
        "outputId": "7603a48a-e75b-4c63-c936-1e6d8c65ea95"
      },
      "execution_count": 39,
      "outputs": [
        {
          "output_type": "execute_result",
          "data": {
            "text/plain": [
              "False"
            ]
          },
          "metadata": {},
          "execution_count": 39
        }
      ]
    },
    {
      "cell_type": "code",
      "source": [
        "#6) Identity Operator\n",
        "season= \"cold\"\n",
        "wheather= \"cold\"\n",
        "season is wheather"
      ],
      "metadata": {
        "colab": {
          "base_uri": "https://localhost:8080/"
        },
        "id": "yGViGKFlxV9R",
        "outputId": "a4566b57-ef11-4d68-c603-0dba466fd551"
      },
      "execution_count": 44,
      "outputs": [
        {
          "output_type": "execute_result",
          "data": {
            "text/plain": [
              "True"
            ]
          },
          "metadata": {},
          "execution_count": 44
        }
      ]
    },
    {
      "cell_type": "markdown",
      "source": [
        "Q-5) Explain the concept of type casting in Python with examples"
      ],
      "metadata": {
        "id": "2VfmOp_vN92Y"
      }
    },
    {
      "cell_type": "markdown",
      "source": [
        "Ans-5) Types casting refers to the process of converting the data type of variale into another data type. It is also called data type conversion. It is of 2 types:\n",
        "1) Implicit Data types= Whem we don't need to make our computer system to understand the data type of variable's assigned value as it does by its own, it is called implicit data types. Pyhton is an example of implicit type casting\n",
        "\n",
        "2) Explicit data types- When we need to assign the values to its variables as the system is not capable to do this, it is called explicit data types.It is basically while doing conversion of type casting.\n"
      ],
      "metadata": {
        "id": "j_NG5Ik-zXET"
      }
    },
    {
      "cell_type": "code",
      "source": [
        "#1) int to float\n",
        "a=2\n",
        "float(a)\n"
      ],
      "metadata": {
        "colab": {
          "base_uri": "https://localhost:8080/"
        },
        "id": "BH5WKRe7zzTJ",
        "outputId": "dac2c6b7-6d66-4265-e574-bf583cb8678f"
      },
      "execution_count": 46,
      "outputs": [
        {
          "output_type": "execute_result",
          "data": {
            "text/plain": [
              "2.0"
            ]
          },
          "metadata": {},
          "execution_count": 46
        }
      ]
    },
    {
      "cell_type": "code",
      "source": [
        "#2) float to int\n",
        "a=2.5\n",
        "int(a)"
      ],
      "metadata": {
        "colab": {
          "base_uri": "https://localhost:8080/"
        },
        "id": "7T11MoWM0FHz",
        "outputId": "e49d14b5-5168-452d-9c9c-55dba4541e31"
      },
      "execution_count": 47,
      "outputs": [
        {
          "output_type": "execute_result",
          "data": {
            "text/plain": [
              "2"
            ]
          },
          "metadata": {},
          "execution_count": 47
        }
      ]
    },
    {
      "cell_type": "code",
      "source": [
        "#3) int to string\n",
        "a=23\n",
        "str(a)"
      ],
      "metadata": {
        "colab": {
          "base_uri": "https://localhost:8080/",
          "height": 35
        },
        "id": "G7RlBu3r0O8-",
        "outputId": "42da5aa3-afd0-4432-c804-51774b78ffce"
      },
      "execution_count": 49,
      "outputs": [
        {
          "output_type": "execute_result",
          "data": {
            "text/plain": [
              "'23'"
            ],
            "application/vnd.google.colaboratory.intrinsic+json": {
              "type": "string"
            }
          },
          "metadata": {},
          "execution_count": 49
        }
      ]
    },
    {
      "cell_type": "code",
      "source": [
        "#4) string to int\n",
        "a='45'\n",
        "int(a)"
      ],
      "metadata": {
        "colab": {
          "base_uri": "https://localhost:8080/"
        },
        "id": "fI9i6lpc0fvc",
        "outputId": "a3c31086-dc27-4b71-d00c-89e861978ddb"
      },
      "execution_count": 53,
      "outputs": [
        {
          "output_type": "execute_result",
          "data": {
            "text/plain": [
              "45"
            ]
          },
          "metadata": {},
          "execution_count": 53
        }
      ]
    },
    {
      "cell_type": "code",
      "source": [
        "#5) string to float\n",
        "a='345'\n",
        "float(a)"
      ],
      "metadata": {
        "colab": {
          "base_uri": "https://localhost:8080/"
        },
        "id": "YlcP7aB71swZ",
        "outputId": "7f1f1084-b0e4-487f-8543-6e0634b0d2cf"
      },
      "execution_count": 55,
      "outputs": [
        {
          "output_type": "execute_result",
          "data": {
            "text/plain": [
              "345.0"
            ]
          },
          "metadata": {},
          "execution_count": 55
        }
      ]
    },
    {
      "cell_type": "markdown",
      "source": [
        "#Note: Only if numericals part is written in the form of string data types, they can be converted into int/float. If charactors are written in string forms they can never be converted into any numerical data types, neither into int nor in float or any other nuerical data type format"
      ],
      "metadata": {
        "id": "kfpYhFBSN9LY"
      }
    },
    {
      "cell_type": "markdown",
      "source": [
        "Q-6) How do conditional statements work in Python? Illustrate with examples"
      ],
      "metadata": {
        "id": "XwWZBrd724d5"
      }
    },
    {
      "cell_type": "markdown",
      "source": [
        "Ans-6) Conditional statements in python helps us to code decisions based on some predictions and required conditions. There are following types of conditional statements:\n",
        "a) if statement\n",
        "b) if-else statement\n",
        "c) if elif else statement\n",
        "d) nested if else statement"
      ],
      "metadata": {
        "id": "tgiijrsa7RFd"
      }
    },
    {
      "cell_type": "code",
      "source": [
        "#1) if statement                   (It executes if the result of code of block is true)\n",
        "if 10>5:\n",
        "  print(\"10 is greater than 5\")"
      ],
      "metadata": {
        "colab": {
          "base_uri": "https://localhost:8080/"
        },
        "id": "SRVmzxrW8iDJ",
        "outputId": "c1b3bf36-8e4b-4b33-d814-6a4d1026ff64"
      },
      "execution_count": 59,
      "outputs": [
        {
          "output_type": "stream",
          "name": "stdout",
          "text": [
            "10 is greater than 5\n"
          ]
        }
      ]
    },
    {
      "cell_type": "code",
      "source": [
        "#2) if else statement               (If code of block 1st not results to True, it will automatically execute the second condition by default)\n",
        "if 10<55:\n",
        "  print(\"10 is not greater than 55\")\n",
        "else:\n",
        "  print(\"10 is greater than 55\")"
      ],
      "metadata": {
        "colab": {
          "base_uri": "https://localhost:8080/"
        },
        "id": "gmrPpUqP83xp",
        "outputId": "04dde1ef-b2df-4630-ff7b-192f6494d833"
      },
      "execution_count": 60,
      "outputs": [
        {
          "output_type": "stream",
          "name": "stdout",
          "text": [
            "10 is not greater than 55\n"
          ]
        }
      ]
    },
    {
      "cell_type": "code",
      "source": [
        "#3) if elif else statement\n",
        "Age=int(input(\"Enter your age: \"))\n",
        "if Age<=17:\n",
        "  print(\"You are kid\")\n",
        "elif Age<=60:\n",
        "  print(\" You are working youth of India\")\n",
        "else:\n",
        "  print(\"You are now a senior citizen of this country\")"
      ],
      "metadata": {
        "colab": {
          "base_uri": "https://localhost:8080/"
        },
        "id": "U4TX4-kP9z_F",
        "outputId": "1c3ff6f7-efbc-4995-d37b-26eaf150f53f"
      },
      "execution_count": 67,
      "outputs": [
        {
          "output_type": "stream",
          "name": "stdout",
          "text": [
            "Enter your age: 25\n",
            " You are working youth of India\n"
          ]
        }
      ]
    },
    {
      "cell_type": "code",
      "source": [
        "#Nested if else statement\n",
        "Time=int(input(\" Enter Hour time only in 24 Hrs format\"))\n",
        "if Time<12:\n",
        "  print(\"Good Morning\")\n",
        "else:\n",
        "  if Time<16:\n",
        "   print(\"Good Afternoon\")\n",
        "  else:\n",
        "   if Time<20:\n",
        "      print(\"Good Evening\")\n",
        "   else:\n",
        "      print(\"Good Night\")"
      ],
      "metadata": {
        "colab": {
          "base_uri": "https://localhost:8080/"
        },
        "id": "sY6QpJAdBAi1",
        "outputId": "180bae8c-d318-4356-8b6a-6d8fbcec3fef"
      },
      "execution_count": 77,
      "outputs": [
        {
          "output_type": "stream",
          "name": "stdout",
          "text": [
            " Enter Hour time only in 24 Hrs format23\n",
            "Good Night\n"
          ]
        }
      ]
    },
    {
      "cell_type": "markdown",
      "source": [
        "Q-7) Describe the different types of loops in Python and their use cases with examples."
      ],
      "metadata": {
        "id": "tS7QUV2AEKsQ"
      }
    },
    {
      "cell_type": "markdown",
      "source": [
        "**Ans-7)** Loops statement allows us to execute a block of code repeatedly until and unless it fulfills the conditions to achieve or to fulfill the requirement for which it was executed for. There are basically 2 types of Loops:\n",
        "\n",
        "**a)**   for loop\n",
        "\n",
        "**b)**   while loop\n",
        "\n"
      ],
      "metadata": {
        "id": "sqqYLlrCEOXW"
      }
    },
    {
      "cell_type": "code",
      "source": [
        "#for loop statement\n",
        "i=0\n",
        "for i in range(0,19):\n",
        "  i+=2\n",
        "  print(i)\n",
        "\n",
        "\n",
        "\n"
      ],
      "metadata": {
        "colab": {
          "base_uri": "https://localhost:8080/"
        },
        "id": "2C_K8kXrGfOr",
        "outputId": "4bb3d467-b7e3-4209-fec4-5e4b13f604c9"
      },
      "execution_count": 89,
      "outputs": [
        {
          "output_type": "stream",
          "name": "stdout",
          "text": [
            "2\n",
            "3\n",
            "4\n",
            "5\n",
            "6\n",
            "7\n",
            "8\n",
            "9\n",
            "10\n",
            "11\n",
            "12\n",
            "13\n",
            "14\n",
            "15\n",
            "16\n",
            "17\n",
            "18\n",
            "19\n",
            "20\n"
          ]
        }
      ]
    },
    {
      "cell_type": "code",
      "source": [
        "#while loop statement\n",
        "count=5\n",
        "while count>0:\n",
        "  print(count)\n",
        "  count-=1"
      ],
      "metadata": {
        "colab": {
          "base_uri": "https://localhost:8080/"
        },
        "id": "vC_2292OIMu6",
        "outputId": "ce83b2c8-198a-44a8-e768-c163bd548098"
      },
      "execution_count": 90,
      "outputs": [
        {
          "output_type": "stream",
          "name": "stdout",
          "text": [
            "5\n",
            "4\n",
            "3\n",
            "2\n",
            "1\n"
          ]
        }
      ]
    },
    {
      "cell_type": "markdown",
      "source": [],
      "metadata": {
        "id": "AVjwmfymA-QL"
      }
    },
    {
      "cell_type": "markdown",
      "source": [],
      "metadata": {
        "id": "2dOx5Ncj8Z6g"
      }
    },
    {
      "cell_type": "code",
      "source": [],
      "metadata": {
        "id": "CUVhSMBU8ap2"
      },
      "execution_count": null,
      "outputs": []
    },
    {
      "cell_type": "markdown",
      "source": [],
      "metadata": {
        "id": "MWvqq2FU7PG_"
      }
    },
    {
      "cell_type": "markdown",
      "source": [],
      "metadata": {
        "id": "gO3Tz-rN7OXU"
      }
    },
    {
      "cell_type": "markdown",
      "source": [],
      "metadata": {
        "id": "PdR_0GPZ5XUG"
      }
    },
    {
      "cell_type": "markdown",
      "source": [],
      "metadata": {
        "id": "qe07ZsgB5XE8"
      }
    },
    {
      "cell_type": "markdown",
      "source": [],
      "metadata": {
        "id": "fNeBea4O2_lc"
      }
    },
    {
      "cell_type": "markdown",
      "source": [],
      "metadata": {
        "id": "akgmfh2E29vc"
      }
    }
  ]
}
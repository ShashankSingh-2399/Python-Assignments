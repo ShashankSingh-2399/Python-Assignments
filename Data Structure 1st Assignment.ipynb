{
  "nbformat": 4,
  "nbformat_minor": 0,
  "metadata": {
    "colab": {
      "provenance": [],
      "authorship_tag": "ABX9TyM8IU7H+C9OpksG19uT+HNW",
      "include_colab_link": true
    },
    "kernelspec": {
      "name": "python3",
      "display_name": "Python 3"
    },
    "language_info": {
      "name": "python"
    }
  },
  "cells": [
    {
      "cell_type": "markdown",
      "metadata": {
        "id": "view-in-github",
        "colab_type": "text"
      },
      "source": [
        "<a href=\"https://colab.research.google.com/github/ShashankSingh-2399/Python-Assignments/blob/main/Data%20Structure%201st%20Assignment.ipynb\" target=\"_parent\"><img src=\"https://colab.research.google.com/assets/colab-badge.svg\" alt=\"Open In Colab\"/></a>"
      ]
    },
    {
      "cell_type": "markdown",
      "source": [
        "#Q-1) Discuss string slicing and provide examples."
      ],
      "metadata": {
        "id": "ksOTCLLM601n"
      }
    },
    {
      "cell_type": "code",
      "execution_count": null,
      "metadata": {
        "colab": {
          "base_uri": "https://localhost:8080/",
          "height": 35
        },
        "id": "n0FT4LdKx-qC",
        "outputId": "4233c68e-ca49-46f3-d262-860fa305c2e5"
      },
      "outputs": [
        {
          "output_type": "execute_result",
          "data": {
            "text/plain": [
              "'I am'"
            ],
            "application/vnd.google.colaboratory.intrinsic+json": {
              "type": "string"
            }
          },
          "metadata": {},
          "execution_count": 9
        }
      ],
      "source": [
        "#Ans-1) String slicing in Python is a way to extract a part of sentences from the complete written sentences or paragraphs. Its beginning characters will be provided by us through its index number that is from where we have to start extraction and also assigning the end index to tell till which character that extraction work should happen.\n",
        "\n",
        "#Example-1: Extract \"I am\" from the given sentence\n",
        "sentence1=\"I am a good student.\"\n",
        "sentence1[0:4]\n"
      ]
    },
    {
      "cell_type": "code",
      "source": [
        "#Example-2: Exctract \"name is Shashank\" from the given sentence\n",
        "sentence2= \"My name is Shashank Singh.\"\n",
        "sentence2[3:20]"
      ],
      "metadata": {
        "colab": {
          "base_uri": "https://localhost:8080/",
          "height": 35
        },
        "id": "L55E5Bx-2ayd",
        "outputId": "9baf10c5-78f2-4637-dff1-07f2fc34e3df"
      },
      "execution_count": null,
      "outputs": [
        {
          "output_type": "execute_result",
          "data": {
            "text/plain": [
              "'name is Shashank '"
            ],
            "application/vnd.google.colaboratory.intrinsic+json": {
              "type": "string"
            }
          },
          "metadata": {},
          "execution_count": 21
        }
      ]
    },
    {
      "cell_type": "code",
      "source": [
        "#Example-3: Extract from beginning of sentence to till Shashank i.e \"My name is Shashank\" only.\n",
        "sentence2=\"My name is Shashank Singh.\"\n",
        "sentence2[:20]"
      ],
      "metadata": {
        "colab": {
          "base_uri": "https://localhost:8080/",
          "height": 35
        },
        "id": "dIp3A6r23TlW",
        "outputId": "362cd041-8d80-4089-9db6-4789039d3e7e"
      },
      "execution_count": null,
      "outputs": [
        {
          "output_type": "execute_result",
          "data": {
            "text/plain": [
              "'My name is Shashank '"
            ],
            "application/vnd.google.colaboratory.intrinsic+json": {
              "type": "string"
            }
          },
          "metadata": {},
          "execution_count": 27
        }
      ]
    },
    {
      "cell_type": "code",
      "source": [
        "#Example-4: Extract \"name is Shashank Singh\" only.\n",
        "sentence2=\"My name is Shashank Singh.\"\n",
        "sentence2[3:]"
      ],
      "metadata": {
        "colab": {
          "base_uri": "https://localhost:8080/",
          "height": 35
        },
        "id": "MAa7XfjQ6e7d",
        "outputId": "95444e44-63e5-4873-d77b-6c79875dc0a2"
      },
      "execution_count": null,
      "outputs": [
        {
          "output_type": "execute_result",
          "data": {
            "text/plain": [
              "'name is Shashank Singh.'"
            ],
            "application/vnd.google.colaboratory.intrinsic+json": {
              "type": "string"
            }
          },
          "metadata": {},
          "execution_count": 28
        }
      ]
    },
    {
      "cell_type": "markdown",
      "source": [
        "#Q-2) Explain the key features of lists in Python.\n",
        "Ans-2) The key featuresof of lists in Python are as follows:\n",
        "\n",
        "1.  Lists are mutable & dynamic.\n",
        "2.  Lists are ordered collection of data.\n",
        "3.  Lists are heterogeneous in nature as it is capable to store all types of data types elements in the same list of any size.\n",
        "4.  Element can be get easily added, ammended or removed from the list.\n",
        "5.  It uses square brackets [ ].\n",
        "6.  Newly added values are added in the last of the list.\n",
        "7.  List uses zero-based indexing and the first element of the list always\n",
        " possess the index value zero 0.\n",
        "\n",
        "\n",
        "\n"
      ],
      "metadata": {
        "id": "Hzvydmij7exb"
      }
    },
    {
      "cell_type": "markdown",
      "source": [
        "#Q-3) Describe how to access, modify, and delete elements in a list with examples.\n",
        "\n",
        "Ans-3) 1.  **Access** helps us to know reach the element written at particular index no. in the list very easily.\n",
        "2.  **Modify** help us to update the existing value of an element positioning at any index no. inside the list.\n",
        "3.  **Delete** helps us to remove any element from the list."
      ],
      "metadata": {
        "id": "yTq7Hl0K9fgu"
      }
    },
    {
      "cell_type": "code",
      "source": [
        "#Example\n",
        "list1=['Shashank','Shobhit',1,2.2,True]\n",
        "list1"
      ],
      "metadata": {
        "colab": {
          "base_uri": "https://localhost:8080/"
        },
        "id": "irud3YFJ_spv",
        "outputId": "9d2dfe8b-93d1-441b-ce09-f56041e5c911"
      },
      "execution_count": null,
      "outputs": [
        {
          "output_type": "execute_result",
          "data": {
            "text/plain": [
              "['Shashank', 'Shobhit', 1, 2.2, True]"
            ]
          },
          "metadata": {},
          "execution_count": 29
        }
      ]
    },
    {
      "cell_type": "code",
      "source": [
        "#Example for Access in list: we need to access \"Shobhit\" in the above list.\n",
        "list1[1]"
      ],
      "metadata": {
        "colab": {
          "base_uri": "https://localhost:8080/",
          "height": 35
        },
        "id": "E-hqWJwlABYu",
        "outputId": "489e5191-cefd-4f01-bdd4-14951e1c8777"
      },
      "execution_count": null,
      "outputs": [
        {
          "output_type": "execute_result",
          "data": {
            "text/plain": [
              "'Shobhit'"
            ],
            "application/vnd.google.colaboratory.intrinsic+json": {
              "type": "string"
            }
          },
          "metadata": {},
          "execution_count": 30
        }
      ]
    },
    {
      "cell_type": "code",
      "source": [
        "#Example for modify in list: modify Shobhit to Sunny in the above list.\n",
        "list1[1]='Sunny'\n",
        "list1"
      ],
      "metadata": {
        "colab": {
          "base_uri": "https://localhost:8080/"
        },
        "id": "PMf4YvHdAVL-",
        "outputId": "de68353c-3965-465a-f0bd-d680429a50a7"
      },
      "execution_count": null,
      "outputs": [
        {
          "output_type": "execute_result",
          "data": {
            "text/plain": [
              "['Shashank', 'Sunny', 1, 2.2, True]"
            ]
          },
          "metadata": {},
          "execution_count": 34
        }
      ]
    },
    {
      "cell_type": "code",
      "source": [
        "#Example of delete elements in the above list: delete Shashank from the above list\n",
        "list1.remove('Shashank')\n",
        "list1"
      ],
      "metadata": {
        "colab": {
          "base_uri": "https://localhost:8080/"
        },
        "id": "5Zn7R-uPBG-O",
        "outputId": "71b7aea8-3ee6-4ad0-d099-12e92ba066a2"
      },
      "execution_count": null,
      "outputs": [
        {
          "output_type": "execute_result",
          "data": {
            "text/plain": [
              "['Sunny', 1, 2.2, True]"
            ]
          },
          "metadata": {},
          "execution_count": 35
        }
      ]
    },
    {
      "cell_type": "markdown",
      "source": [
        "#Q-4) Compare and contrast tuples and lists with examples"
      ],
      "metadata": {
        "id": "uFbcTzzaBb9m"
      }
    },
    {
      "cell_type": "markdown",
      "source": [
        "#Ans-4) Even though both tuples and lists hold numbers of heterogeneous elements in themself, they still possess lots of difference in eachother. They are as follows:\n",
        "\n",
        "1.   Tuples uses parenthesis () for holding elements whereas lists uses square brackets[] for elements.\n",
        "2.   Tuples are immutable meand ones elements assigned inside tuples, no kind of alteration is possible in it then whereas lists are mutable in nature which allows us to ammend, add or delete elements inside it as per our needs.\n",
        "\n"
      ],
      "metadata": {
        "id": "zLbiY4vlFixG"
      }
    },
    {
      "cell_type": "code",
      "source": [
        "# Example of tuple for both above mentioned points:\n",
        "tuple1=('Shashank',12,3.2,True)\n",
        "tuple1"
      ],
      "metadata": {
        "colab": {
          "base_uri": "https://localhost:8080/"
        },
        "id": "MocGYbQ3BAcu",
        "outputId": "c72ec042-5bfb-4cf3-988a-4645f617464f"
      },
      "execution_count": null,
      "outputs": [
        {
          "output_type": "execute_result",
          "data": {
            "text/plain": [
              "('Shashank', 12, 3.2, True)"
            ]
          },
          "metadata": {},
          "execution_count": 36
        }
      ]
    },
    {
      "cell_type": "code",
      "source": [
        "tuple1[1]=\"Shobhit\""
      ],
      "metadata": {
        "colab": {
          "base_uri": "https://localhost:8080/",
          "height": 141
        },
        "id": "ZUZzNyyoD4Tn",
        "outputId": "54623525-ebc9-4cf7-8940-5a13222e5813"
      },
      "execution_count": null,
      "outputs": [
        {
          "output_type": "error",
          "ename": "TypeError",
          "evalue": "'tuple' object does not support item assignment",
          "traceback": [
            "\u001b[0;31m---------------------------------------------------------------------------\u001b[0m",
            "\u001b[0;31mTypeError\u001b[0m                                 Traceback (most recent call last)",
            "\u001b[0;32m<ipython-input-39-daf05016eed3>\u001b[0m in \u001b[0;36m<cell line: 1>\u001b[0;34m()\u001b[0m\n\u001b[0;32m----> 1\u001b[0;31m \u001b[0mtuple1\u001b[0m\u001b[0;34m[\u001b[0m\u001b[0;36m1\u001b[0m\u001b[0;34m]\u001b[0m\u001b[0;34m=\u001b[0m\u001b[0;34m\"Shobhit\"\u001b[0m\u001b[0;34m\u001b[0m\u001b[0;34m\u001b[0m\u001b[0m\n\u001b[0m",
            "\u001b[0;31mTypeError\u001b[0m: 'tuple' object does not support item assignment"
          ]
        }
      ]
    },
    {
      "cell_type": "code",
      "source": [
        "#Example of list for both above mentioned points:\n",
        "list1=['Shashank',12,3.2,True]\n",
        "list1"
      ],
      "metadata": {
        "colab": {
          "base_uri": "https://localhost:8080/"
        },
        "id": "F3PSTnVoEuzX",
        "outputId": "6f3bfdc8-c1a3-4374-9f64-9eece98784f4"
      },
      "execution_count": null,
      "outputs": [
        {
          "output_type": "execute_result",
          "data": {
            "text/plain": [
              "['Shashank', 12, 3.2, True]"
            ]
          },
          "metadata": {},
          "execution_count": 40
        }
      ]
    },
    {
      "cell_type": "code",
      "source": [
        "list1[1]=\"Shobhit\"\n",
        "list1"
      ],
      "metadata": {
        "colab": {
          "base_uri": "https://localhost:8080/"
        },
        "id": "JkBXGpHJE5wv",
        "outputId": "8dd9479f-6139-4ebb-b01e-742e0c688b18"
      },
      "execution_count": null,
      "outputs": [
        {
          "output_type": "execute_result",
          "data": {
            "text/plain": [
              "['Shashank', 'Shobhit', 3.2, True]"
            ]
          },
          "metadata": {},
          "execution_count": 41
        }
      ]
    },
    {
      "cell_type": "code",
      "source": [
        "list1.remove('Shashank')\n",
        "list1"
      ],
      "metadata": {
        "colab": {
          "base_uri": "https://localhost:8080/"
        },
        "id": "sDn0PcydFBW3",
        "outputId": "f913e038-746f-4c55-9dea-f420aa6c11f3"
      },
      "execution_count": null,
      "outputs": [
        {
          "output_type": "execute_result",
          "data": {
            "text/plain": [
              "['Shobhit', 3.2, True]"
            ]
          },
          "metadata": {},
          "execution_count": 42
        }
      ]
    },
    {
      "cell_type": "code",
      "source": [
        "list1.append(\"Ranjeet\")\n",
        "list1\n"
      ],
      "metadata": {
        "colab": {
          "base_uri": "https://localhost:8080/"
        },
        "id": "oCCNbMoaFIKv",
        "outputId": "cfbe3a72-dd59-4ff1-ebb6-2f956071b8d2"
      },
      "execution_count": null,
      "outputs": [
        {
          "output_type": "execute_result",
          "data": {
            "text/plain": [
              "['Shobhit', 3.2, True, 'Ranjeet']"
            ]
          },
          "metadata": {},
          "execution_count": 43
        }
      ]
    },
    {
      "cell_type": "markdown",
      "source": [
        "#Q-5) Describe the key features of sets and provide examples of their use."
      ],
      "metadata": {
        "id": "8lKBOY63FUnX"
      }
    },
    {
      "cell_type": "markdown",
      "source": [
        "#Ans-5)\n",
        "\n",
        "1.   Sets are also the type of data structure of python.\n",
        "2.   These are unordered collection of unique elements means duplicates elements are removed and gives ouputs in asceding/descending orders due to which the real sequence of their entered existence gets hampered.\n",
        "3.   It is mutable in nature means elements can be added, removed from it.\n",
        "4.   We can't access any element because it does not allows indexing of elements.\n",
        "5.   Sets are written under curly brackets {}."
      ],
      "metadata": {
        "id": "KRo41OvfF6YP"
      }
    },
    {
      "cell_type": "code",
      "source": [
        "set1={1,11,1,'Shashank', True, 'Shashank', True, False, 'tomato', 'potato', 'potato'}\n",
        "set1"
      ],
      "metadata": {
        "colab": {
          "base_uri": "https://localhost:8080/"
        },
        "id": "5UURiPo7HWi_",
        "outputId": "db43a612-1d2e-4e1f-e0cc-30249b7ce056"
      },
      "execution_count": null,
      "outputs": [
        {
          "output_type": "execute_result",
          "data": {
            "text/plain": [
              "{1, 11, False, 'Shashank', 'potato', 'tomato'}"
            ]
          },
          "metadata": {},
          "execution_count": 45
        }
      ]
    },
    {
      "cell_type": "code",
      "source": [
        "#Add brinjal in the set\n",
        "set1.add('brinjal')\n",
        "set1"
      ],
      "metadata": {
        "colab": {
          "base_uri": "https://localhost:8080/"
        },
        "id": "WDzH0aA7HzUO",
        "outputId": "7f0e7e9a-5c83-44e1-cafc-c6dc932b2a93"
      },
      "execution_count": null,
      "outputs": [
        {
          "output_type": "execute_result",
          "data": {
            "text/plain": [
              "{1, 11, False, 'Shashank', 'brinjal', 'potato', 'tomato'}"
            ]
          },
          "metadata": {},
          "execution_count": 46
        }
      ]
    },
    {
      "cell_type": "code",
      "source": [
        "#Remove potato from the set\n",
        "set1.remove('potato')\n",
        "set1"
      ],
      "metadata": {
        "colab": {
          "base_uri": "https://localhost:8080/"
        },
        "id": "-V-kOakMID_G",
        "outputId": "0440e78a-92b2-447f-a173-62038aa290ae"
      },
      "execution_count": null,
      "outputs": [
        {
          "output_type": "execute_result",
          "data": {
            "text/plain": [
              "{1, 11, False, 'Shashank', 'brinjal', 'tomato'}"
            ]
          },
          "metadata": {},
          "execution_count": 47
        }
      ]
    },
    {
      "cell_type": "markdown",
      "source": [
        "#Q-6) Discuss the use cases of tuples and sets in Python programming.\n"
      ],
      "metadata": {
        "id": "I7vuXUuAIZH3"
      }
    },
    {
      "cell_type": "markdown",
      "source": [
        "#Ans-6) Tuples are mainly used in the case scenarios where the data ones feeded should never be get changed or hampered any way like recording of Date of Births, Aadhar Number of any person, bank details of employees, employee IDs.\n",
        "\n",
        "\n",
        "#Sets on the other hand is used for getting the unique values of elements from the pile of data to make the decision making of what types of unique data are available to us and how they can be used or made to use."
      ],
      "metadata": {
        "id": "M0bjU41LKDeX"
      }
    },
    {
      "cell_type": "markdown",
      "source": [
        "#Q-7) Describe how to add, modify, and delete items in a dictionary with examples."
      ],
      "metadata": {
        "id": "coWs5vCiybke"
      }
    },
    {
      "cell_type": "markdown",
      "source": [
        "#Ans-7)  \n",
        "1.   It is a type of data structure which stores the data in the form of key value pair.\n",
        "2.   It is written under curly brackets {}.\n",
        "3. It is also mutable in nature and we can add, modify and delete items in it.\n"
      ],
      "metadata": {
        "id": "15gezP71K1YP"
      }
    },
    {
      "cell_type": "code",
      "source": [
        "#Example\n",
        "Phonebook= {\"Papa\":9918 , \"Mummy\":9169}\n",
        "Phonebook"
      ],
      "metadata": {
        "colab": {
          "base_uri": "https://localhost:8080/"
        },
        "id": "TrhlxKDHLdNH",
        "outputId": "66c10f4f-5e9c-4a7d-8235-ba0584b586ca"
      },
      "execution_count": null,
      "outputs": [
        {
          "output_type": "execute_result",
          "data": {
            "text/plain": [
              "{'Papa': 9918, 'Mummy': 9169}"
            ]
          },
          "metadata": {},
          "execution_count": 48
        }
      ]
    },
    {
      "cell_type": "code",
      "source": [
        "#now add phone no. of bhaiya-70072\n",
        "Phonebook['Bhaiya']=70072\n",
        "Phonebook"
      ],
      "metadata": {
        "colab": {
          "base_uri": "https://localhost:8080/"
        },
        "id": "-OQH3xnXL6NH",
        "outputId": "9e0e87f3-5bed-4c97-ea4c-51b9079cb2fb"
      },
      "execution_count": null,
      "outputs": [
        {
          "output_type": "execute_result",
          "data": {
            "text/plain": [
              "{'Papa': 9918, 'Mummy': 9169, 'Bhaiya': 70072}"
            ]
          },
          "metadata": {},
          "execution_count": 54
        }
      ]
    },
    {
      "cell_type": "code",
      "source": [
        "#now update phone no. of mummy to 88876\n",
        "Phonebook['Mummy']=8887\n",
        "Phonebook"
      ],
      "metadata": {
        "colab": {
          "base_uri": "https://localhost:8080/"
        },
        "id": "1AALh1CQMrFf",
        "outputId": "1f5f4154-7b62-45a9-cadd-4cff51305d08"
      },
      "execution_count": null,
      "outputs": [
        {
          "output_type": "execute_result",
          "data": {
            "text/plain": [
              "{'Papa': 9918, 'Mummy': 8887, 'Bhaiya': 70072}"
            ]
          },
          "metadata": {},
          "execution_count": 55
        }
      ]
    },
    {
      "cell_type": "code",
      "source": [
        "#now delete phone no. of bhaiya\n",
        "Phonebook.pop('Bhaiya')\n",
        "Phonebook"
      ],
      "metadata": {
        "colab": {
          "base_uri": "https://localhost:8080/"
        },
        "id": "kzraLCqkM4Gv",
        "outputId": "6f508c78-8bab-442a-d5a2-e91bda879120"
      },
      "execution_count": null,
      "outputs": [
        {
          "output_type": "execute_result",
          "data": {
            "text/plain": [
              "{'Papa': 9918, 'Mummy': 8887}"
            ]
          },
          "metadata": {},
          "execution_count": 56
        }
      ]
    },
    {
      "cell_type": "markdown",
      "source": [
        "#Q-8) Discuss the importance of dictionary keys being immutable and provide examples"
      ],
      "metadata": {
        "id": "AQItcqqlNxy4"
      }
    },
    {
      "cell_type": "markdown",
      "source": [
        "#Ans-8) The importance of dictionary keys being immutable are as follows:\n",
        "\n",
        "1.   Hashing Consistency: Python dictionaries rely on hashing to store and retrieve values efficiently. The hash function computes a unique value for each key, which is used to determine where the key-value pair is stored in memory. In order for this to work correctly, the key must not change after it is inserted into the dictionary.\n",
        "    *  If a key were mutable, its hash value could change after being added to the dictionary, leading to inconsistencies. This could make it impossible to retrieve the associated value correctly, as the dictionary would no longer be able to find the key's location in memory\n",
        "\n",
        "2.  If a key were mutable, its hash value could change after being added to the dictionary, leading to inconsistencies. This could make it impossible to retrieve the associated value correctly, as the dictionary would no longer be able to find the key's location in memory\n",
        "\n",
        "3.  Efficient Lookups: Immutability ensures that the key remains constant throughout its existence in the dictionary, making lookups efficient and reliable. If the key changed, the dictionary would need to recompute the hash or even re-index the data, potentially causing performance issues.\n",
        "\n"
      ],
      "metadata": {
        "id": "1nqR3XOrN2Sv"
      }
    },
    {
      "cell_type": "code",
      "source": [
        "#Examples Using string as keys:\n",
        "my_details = {\"name\":\"Shashank Singh\", \"city\":\"Lucknow\"}\n",
        "my_details\n",
        "#here, name and city are immutables."
      ],
      "metadata": {
        "colab": {
          "base_uri": "https://localhost:8080/"
        },
        "id": "F0ia4N2IRjxQ",
        "outputId": "098ae355-27a2-4c88-b9f6-60bb8ed93da0"
      },
      "execution_count": null,
      "outputs": [
        {
          "output_type": "execute_result",
          "data": {
            "text/plain": [
              "{'name': 'Shashank Singh', 'city': 'Lucknow'}"
            ]
          },
          "metadata": {},
          "execution_count": 64
        }
      ]
    },
    {
      "cell_type": "code",
      "source": [
        "print(my_details[\"name\"])\n",
        "print(my_details[\"city\"])"
      ],
      "metadata": {
        "colab": {
          "base_uri": "https://localhost:8080/"
        },
        "id": "LrbQk-X-SdqI",
        "outputId": "bd816fa8-e74f-4dcc-d2ef-ffa4d1662142"
      },
      "execution_count": null,
      "outputs": [
        {
          "output_type": "stream",
          "name": "stdout",
          "text": [
            "Shashank Singh\n",
            "Lucknow\n"
          ]
        }
      ]
    }
  ]
}